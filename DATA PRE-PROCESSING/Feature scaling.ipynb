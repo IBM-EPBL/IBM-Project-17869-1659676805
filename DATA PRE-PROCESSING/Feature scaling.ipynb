{
  "cells": [
    {
      "metadata": {
        "id": "kcrlRCqulCiz"
      },
      "cell_type": "markdown",
      "source": [
        "#Import Packages and Connect to Drive"
      ]
    },
    {
      "metadata": {
        "colab": {
          "base_uri": "https://localhost:8080/"
        },
        "id": "5cnmPJN0KLIo",
        "outputId": "1f129a28-7b2f-457b-f76d-d83a73c3938a"
      },
      "cell_type": "code",
      "source": [
        "!python --version"
      ],
      "execution_count": null,
      "outputs": [
        {
          "output_type": "stream",
          "name": "stdout",
          "text": [
            "Python 3.7.15\n"
          ]
        }
      ]
    },
    {
      "metadata": {
        "id": "vCpAnk_-URr2",
        "outputId": "4a5650a0-b781-4909-9f37-e8c2de635217"
      },
      "cell_type": "code",
      "source": [
        "import os\n",
        "os.getcwd()"
      ],
      "execution_count": null,
      "outputs": [
        {
          "output_type": "execute_result",
          "execution_count": 2,
          "data": {
            "text/plain": "'/home/wsuser/work'"
          },
          "metadata": {}
        }
      ]
    },
    {
      "metadata": {
        "id": "xE2cX9ofTHGL"
      },
      "cell_type": "code",
      "source": [
        "import os\n",
        "import IPython.display as ipd\n",
        "import matplotlib.pyplot as plt#graph plotting\n",
        "import numpy as np#Array or Multi dimi. arrays\n",
        "import pandas as pd#Reading files and sving it as tablur format\n",
        "import time\n",
        "from collections import Counter, OrderedDict#[1,2,3,3]\n",
        "import cv2#opencv - python - Image processing- short form -cv2\n",
        "#from google.colab.patches import cv2_imshow#Is used for printing the images\n",
        "import random#Generating random variables or values\n",
        "#import seaborn as sns#graph plotting\n",
        "import json\n",
        "import joblib\n",
        "import pickle\n",
        "from ibm_watson_machine_learning import APIClient"
      ],
      "execution_count": null,
      "outputs": []
    },
    {
      "metadata": {
        "colab": {
          "base_uri": "https://localhost:8080/"
        },
        "id": "LcoBTFWtKBI4",
        "outputId": "dbceee8f-2062-4d35-822a-b46e894e2331"
      },
      "cell_type": "code",
      "source": [
        "import sklearn\n",
        "print('The scikit-learn version is {}.'.format(sklearn.__version__))"
      ],
      "execution_count": null,
      "outputs": [
        {
          "output_type": "stream",
          "text": "The scikit-learn version is 1.0.2.\n",
          "name": "stdout"
        }
      ]
    },
    {
      "metadata": {
        "id": "94sFy4A-7FBO"
      },
      "cell_type": "code",
      "source": [
        "from sklearn.preprocessing import LabelEncoder\n",
        "from sklearn.model_selection import cross_val_score\n",
        "from sklearn.model_selection import train_test_split\n",
        "from sklearn import metrics\n",
        "from sklearn.utils import class_weight\n",
        "from sklearn.utils.class_weight import compute_class_weight\n",
        "from sklearn.model_selection import train_test_split\n",
        "from sklearn.preprocessing import StandardScaler\n",
        "from sklearn.preprocessing import LabelEncoder\n",
        "from sklearn.preprocessing import LabelEncoder\n",
        "from sklearn.model_selection import cross_val_score\n",
        "from sklearn.linear_model import LogisticRegression\n",
        "from sklearn.svm import SVC\n",
        "from sklearn.pipeline import make_pipeline\n",
        "from sklearn.linear_model import Ridge, Lasso, ElasticNet\n",
        "from sklearn.ensemble import RandomForestRegressor, GradientBoostingRegressor\n",
        "from sklearn.model_selection import GridSearchCV\n",
        "from sklearn.exceptions import NotFittedError\n",
        "from sklearn.ensemble import RandomForestClassifier\n",
        "from sklearn.neighbors import KNeighborsClassifier\n",
        "from sklearn.model_selection import train_test_split\n",
        "from sklearn.model_selection import GridSearchCV\n",
        "from sklearn.model_selection import StratifiedKFold\n",
        "from sklearn.naive_bayes import MultinomialNB\n",
        "from sklearn.model_selection import GridSearchCV\n",
        "from sklearn.linear_model import SGDClassifier\n",
        "from sklearn import metrics"
      ],
      "execution_count": null,
      "outputs": []
    },
    {
      "metadata": {
        "id": "8V5rL-D5lIdq"
      },
      "cell_type": "markdown",
      "source": [
        "#Data Loading and Preprocessing"
      ]
    },
    {
      "metadata": {
        "scrolled": true,
        "id": "0-Nr6-AETHGO",
        "colab": {
          "base_uri": "https://localhost:8080/",
          "height": 130
        },
        "outputId": "77cb3fbf-aa24-4b17-bee8-bebabddb2b1d"
      },
      "cell_type": "code",
      "source": [
        "\n",
        "import os, types\n",
        "import pandas as pd\n",
        "from botocore.client import Config\n",
        "import ibm_boto3\n",
        "\n",
        "def __iter__(self): return 0\n",
        "\n",
        "# hidden_cell\n",
        "# The following code accesses a file in your IBM Cloud Object Storage. It includes your credentials.\n",
        "# You might want to remove those credentials before you share the notebook.\n",
        "cos_client = ibm_boto3.client(service_name='s3',\n",
        "    ibm_api_key_id='geDl8EdyQxhVAqykYTv3jPIjXaicgiET0P6yZji-ubLg',\n",
        "    ibm_auth_endpoint=\"https://iam.cloud.ibm.com/oidc/token\",\n",
        "    config=Config(signature_version='oauth'),\n",
        "    endpoint_url='https://s3.private.eu.cloud-object-storage.appdomain.cloud\","
      ],
      "execution_count": null,
      "outputs": [
        {
          "output_type": "error",
          "ename": "SyntaxError",
          "evalue": "ignored",
          "traceback": [
            "\u001b[0;36m  File \u001b[0;32m\"<ipython-input-7-30b5fde431c8>\"\u001b[0;36m, line \u001b[0;32m15\u001b[0m\n\u001b[0;31m    endpoint_url='https://s3.private.eu.cloud-object-storage.appdomain.cloud\u001b[0m\n\u001b[0m                                                                            ^\u001b[0m\n\u001b[0;31mSyntaxError\u001b[0m\u001b[0;31m:\u001b[0m EOL while scanning string literal\n"
          ]
        }
      ]
    },
    {
      "metadata": {
        "colab": {
          "base_uri": "https://localhost:8080/",
          "height": 235
        },
        "id": "9QeYQDTV7bYK",
        "outputId": "61851ba5-ada1-46eb-c389-2c8a51d0bfa5"
      },
      "cell_type": "code",
      "source": [
        "bucket = 'rainfall-donotdelete-pr-eoii6hshulobg1'\n",
        "object_key = 'rainfall.csv'\n",
        "\n",
        "body = cos_client.get_object(Bucket=bucket,Key=object_key)['Body']\n",
        "\n",
        "# add missing __iter__ method, so pandas accepts body as file-like object\n",
        "if not hasattr(body, \"__iter__\"): body.__iter__ = types.MethodType( __iter__, body )\n",
        "\n",
        "df = pd.read_csv(body)\n",
        "df"
      ],
      "execution_count": null,
      "outputs": [
        {
          "output_type": "error",
          "ename": "NameError",
          "evalue": "ignored",
          "traceback": [
            "\u001b[0;31m---------------------------------------------------------------------------\u001b[0m",
            "\u001b[0;31mNameError\u001b[0m                                 Traceback (most recent call last)",
            "\u001b[0;32m<ipython-input-4-7b439b69223d>\u001b[0m in \u001b[0;36m<module>\u001b[0;34m\u001b[0m\n\u001b[1;32m      2\u001b[0m \u001b[0mobject_key\u001b[0m \u001b[0;34m=\u001b[0m \u001b[0;34m'rainfall.csv'\u001b[0m\u001b[0;34m\u001b[0m\u001b[0;34m\u001b[0m\u001b[0m\n\u001b[1;32m      3\u001b[0m \u001b[0;34m\u001b[0m\u001b[0m\n\u001b[0;32m----> 4\u001b[0;31m \u001b[0mbody\u001b[0m \u001b[0;34m=\u001b[0m \u001b[0mcos_client\u001b[0m\u001b[0;34m.\u001b[0m\u001b[0mget_object\u001b[0m\u001b[0;34m(\u001b[0m\u001b[0mBucket\u001b[0m\u001b[0;34m=\u001b[0m\u001b[0mbucket\u001b[0m\u001b[0;34m,\u001b[0m\u001b[0mKey\u001b[0m\u001b[0;34m=\u001b[0m\u001b[0mobject_key\u001b[0m\u001b[0;34m)\u001b[0m\u001b[0;34m[\u001b[0m\u001b[0;34m'Body'\u001b[0m\u001b[0;34m]\u001b[0m\u001b[0;34m\u001b[0m\u001b[0;34m\u001b[0m\u001b[0m\n\u001b[0m\u001b[1;32m      5\u001b[0m \u001b[0;34m\u001b[0m\u001b[0m\n\u001b[1;32m      6\u001b[0m \u001b[0;31m# add missing __iter__ method, so pandas accepts body as file-like object\u001b[0m\u001b[0;34m\u001b[0m\u001b[0;34m\u001b[0m\u001b[0;34m\u001b[0m\u001b[0m\n",
            "\u001b[0;31mNameError\u001b[0m: name 'cos_client' is not defined"
          ]
        }
      ]
    },
    {
      "metadata": {
        "colab": {
          "base_uri": "https://localhost:8080/",
          "height": 183
        },
        "id": "0wm2ecC9888Q",
        "outputId": "06be150e-f8e9-4308-df55-cb7a9f372b2b"
      },
      "cell_type": "code",
      "source": [
        "df = df.dropna()\n",
        "df"
      ],
      "execution_count": null,
      "outputs": [
        {
          "output_type": "error",
          "ename": "NameError",
          "evalue": "ignored",
          "traceback": [
            "\u001b[0;31m---------------------------------------------------------------------------\u001b[0m",
            "\u001b[0;31mNameError\u001b[0m                                 Traceback (most recent call last)",
            "\u001b[0;32m<ipython-input-9-dbf26b6f1420>\u001b[0m in \u001b[0;36m<module>\u001b[0;34m\u001b[0m\n\u001b[0;32m----> 1\u001b[0;31m \u001b[0mdf\u001b[0m \u001b[0;34m=\u001b[0m \u001b[0mdf\u001b[0m\u001b[0;34m.\u001b[0m\u001b[0mdropna\u001b[0m\u001b[0;34m(\u001b[0m\u001b[0;34m)\u001b[0m\u001b[0;34m\u001b[0m\u001b[0;34m\u001b[0m\u001b[0m\n\u001b[0m\u001b[1;32m      2\u001b[0m \u001b[0mdf\u001b[0m\u001b[0;34m\u001b[0m\u001b[0;34m\u001b[0m\u001b[0m\n",
            "\u001b[0;31mNameError\u001b[0m: name 'df' is not defined"
          ]
        }
      ]
    },
    {
      "metadata": {
        "colab": {
          "base_uri": "https://localhost:8080/"
        },
        "id": "5jJCmBRXMUBB",
        "outputId": "83d3d148-93eb-4c98-b238-c9af83e4fae5"
      },
      "cell_type": "code",
      "source": [
        "for i in df.columns:\n",
        "  print(i, df[i].dtype)\n",
        "  print(df[i].value_counts())\n",
        "  print(\"################\")"
      ],
      "execution_count": null,
      "outputs": [
        {
          "output_type": "stream",
          "text": "Date object\n2010-11-16    25\n2009-03-09    25\n2009-03-28    25\n2009-03-26    25\n2010-05-17    25\n              ..\n2008-03-26     1\n2008-03-25     1\n2008-03-24     1\n2008-03-23     1\n2008-01-02     1\nName: Date, Length: 3416, dtype: int64\n################\nLocation object\nDarwin              3062\nPerth               3025\nBrisbane            2953\nMelbourneAirport    2929\nPerthAirport        2913\nSydneyAirport       2870\nWatsonia            2730\nMildura             2594\nMountGambier        2465\nNorfolkIsland       2464\nCairns              2444\nTownsville          2419\nWaggaWagga          2416\nAliceSprings        2223\nNuriootpa           2008\nHobart              1939\nMoree               1913\nMelbourne           1898\nPortland            1863\nWoomera             1734\nSydney              1690\nSale                1678\nCoffsHarbour        1380\nWilliamtown         1198\nCanberra            1078\nCobar                534\nName: Location, dtype: int64\n################\nMinTemp float64\n 13.0    349\n 9.6     342\n 8.5     333\n 9.7     331\n 12.5    331\n        ... \n 31.4      1\n-5.3       1\n-3.8       1\n-5.8       1\n-6.7       1\nName: MinTemp, Length: 348, dtype: int64\n################\nMaxTemp float64\n19.6    303\n18.2    300\n19.4    300\n20.1    298\n23.5    294\n       ... \n45.4      1\n47.3      1\n45.8      1\n6.3       1\n7.5       1\nName: MaxTemp, Length: 395, dtype: int64\n################\nRainfall float64\n0.0      36709\n0.2       3009\n0.4       1593\n0.6       1087\n0.8        834\n         ...  \n29.9         1\n182.6        1\n81.8         1\n89.2         1\n70.8         1\nName: Rainfall, Length: 410, dtype: int64\n################\nEvaporation float64\n4.0     2263\n8.0     1745\n2.2     1393\n3.4     1365\n2.4     1353\n        ... \n37.4       1\n33.6       1\n28.6       1\n48.8       1\n25.0       1\nName: Evaporation, Length: 259, dtype: int64\n################\nSunshine float64\n0.0     1658\n11.0     879\n10.8     878\n10.7     878\n10.5     842\n        ... \n14.0      10\n14.1       3\n14.3       3\n14.2       2\n14.5       1\nName: Sunshine, Length: 145, dtype: int64\n################\nWindGustDir object\nE      4516\nN      4210\nW      4161\nSW     4052\nENE    4028\nSE     3930\nSSW    3898\nWSW    3791\nS      3636\nESE    3312\nSSE    3295\nNE     3185\nWNW    2989\nNW     2612\nNNE    2516\nNNW    2289\nName: WindGustDir, dtype: int64\n################\nWindGustSpeed float64\n35.0     3965\n39.0     3884\n37.0     3727\n31.0     3582\n33.0     3580\n         ... \n113.0       2\n122.0       1\n9.0         1\n124.0       1\n111.0       1\nName: WindGustSpeed, Length: 61, dtype: int64\n################\nWindDir9am object\nN      4967\nE      4456\nENE    3932\nSSE    3893\nSE     3880\nW      3707\nS      3421\nESE    3400\nNE     3390\nSW     3356\nNNE    3267\nWSW    3037\nNNW    3016\nSSW    2926\nWNW    2918\nNW     2854\nName: WindDir9am, dtype: int64\n################\nWindDir3pm object\nSE     4153\nS      4109\nSW     4012\nENE    3946\nW      3922\nWSW    3856\nE      3753\nESE    3703\nN      3626\nSSW    3485\nNE     3390\nSSE    3332\nWNW    3200\nNNW    2766\nNW     2727\nNNE    2440\nName: WindDir3pm, dtype: int64\n################\nWindSpeed9am float64\n13.0    5911\n9.0     5631\n11.0    5000\n17.0    4992\n15.0    4702\n7.0     4274\n19.0    3694\n20.0    3639\n6.0     3342\n24.0    2515\n22.0    2359\n4.0     1737\n26.0    1688\n28.0    1661\n2.0     1182\n30.0    1080\n31.0     970\n33.0     501\n35.0     464\n37.0     253\n39.0     196\n41.0     148\n43.0     143\n44.0      82\n46.0      63\n50.0      43\n48.0      41\n52.0      37\n54.0      23\n56.0      17\n57.0      14\n61.0       6\n63.0       5\n59.0       3\n67.0       2\n65.0       2\nName: WindSpeed9am, dtype: int64\n################\nWindSpeed3pm float64\n17.0    5187\n20.0    4940\n13.0    4785\n15.0    4530\n19.0    4339\n24.0    4124\n22.0    3653\n11.0    3548\n9.0     3375\n28.0    3089\n26.0    2885\n30.0    2185\n7.0     1850\n31.0    1837\n33.0    1183\n6.0     1085\n35.0    1022\n37.0     584\n39.0     499\n4.0      458\n41.0     282\n43.0     242\n2.0      234\n44.0     127\n46.0     120\n50.0      81\n48.0      76\n52.0      30\n54.0      21\n56.0      14\n59.0       9\n65.0       8\n57.0       7\n61.0       6\n76.0       2\n63.0       2\n67.0       1\nName: WindSpeed3pm, dtype: int64\n################\nHumidity9am float64\n68.0    1314\n67.0    1300\n69.0    1288\n65.0    1286\n64.0    1277\n        ... \n4.0       14\n3.0        7\n2.0        6\n1.0        3\n0.0        1\nName: Humidity9am, Length: 101, dtype: int64\n################\nHumidity3pm float64\n52.0     1250\n54.0     1202\n55.0     1181\n51.0     1172\n53.0     1170\n         ... \n100.0      50\n3.0        41\n2.0        29\n1.0        13\n0.0         3\nName: Humidity3pm, Length: 101, dtype: int64\n################\nPressure9am float64\n1016.4    382\n1015.9    361\n1017.7    350\n1018.2    349\n1018.0    347\n         ... \n1039.6      1\n1039.5      1\n1037.6      1\n1040.2      1\n983.9       1\nName: Pressure9am, Length: 504, dtype: int64\n################\nPressure3pm float64\n1014.8    351\n1013.5    351\n1015.3    347\n1013.4    346\n1012.2    341\n         ... \n987.6       1\n986.2       1\n987.0       1\n989.4       1\n983.3       1\nName: Pressure3pm, Length: 507, dtype: int64\n################\nCloud9am float64\n7.0    14394\n1.0    10677\n8.0     5487\n6.0     5403\n0.0     5262\n2.0     4378\n3.0     4221\n5.0     3757\n4.0     2841\nName: Cloud9am, dtype: int64\n################\nCloud3pm float64\n7.0    13809\n1.0    10162\n6.0     6287\n2.0     4961\n3.0     4864\n8.0     4724\n5.0     4672\n0.0     3470\n4.0     3470\n9.0        1\nName: Cloud3pm, dtype: int64\n################\nTemp9am float64\n 16.6    343\n 16.7    333\n 14.8    330\n 14.7    329\n 17.0    328\n        ... \n 0.0       1\n-0.2       1\n-0.5       1\n 0.6       1\n 38.0      1\nName: Temp9am, Length: 383, dtype: int64\n################\nTemp3pm float64\n18.4    329\n18.7    318\n19.3    315\n18.5    310\n21.6    306\n       ... \n4.3       1\n45.4      1\n44.7      1\n43.9      1\n43.2      1\nName: Temp3pm, Length: 393, dtype: int64\n################\nRainToday object\nNo     43958\nYes    12462\nName: RainToday, dtype: int64\n################\nRISK_MM float64\n0.0      36748\n0.2       2996\n0.4       1604\n0.6       1076\n0.8        828\n         ...  \n107.4        1\n63.4         1\n74.4         1\n56.4         1\n65.8         1\nName: RISK_MM, Length: 498, dtype: int64\n################\nRainTomorrow object\nNo     43993\nYes    12427\nName: RainTomorrow, dtype: int64\n################\n",
          "name": "stdout"
        }
      ]
    },
    {
      "metadata": {
        "id": "BbloxDyzNDjc"
      },
      "cell_type": "code",
      "source": [
        "cols = ['RainToday', 'RainTomorrow', 'WindDir3pm', 'WindDir9am', 'WindGustDir', 'Location']"
      ],
      "execution_count": null,
      "outputs": []
    },
    {
      "metadata": {
        "colab": {
          "base_uri": "https://localhost:8080/"
        },
        "id": "ScenhTXOVbbO",
        "outputId": "f89a794b-a038-48fa-b595-c08b04f6f32b"
      },
      "cell_type": "code",
      "source": [
        "le = LabelEncoder()\n",
        "for col in cols:\n",
        "  print(col)\n",
        "  df[col] = le.fit_transform(df[col])\n",
        "  le_name_mapping = dict(zip(le.classes_, le.transform(le.classes_)))\n",
        "  print(le_name_mapping)\n",
        "  print(\"################\")"
      ],
      "execution_count": null,
      "outputs": [
        {
          "output_type": "stream",
          "text": "RainToday\n{'No': 0, 'Yes': 1}\n################\nRainTomorrow\n{'No': 0, 'Yes': 1}\n################\nWindDir3pm\n{'E': 0, 'ENE': 1, 'ESE': 2, 'N': 3, 'NE': 4, 'NNE': 5, 'NNW': 6, 'NW': 7, 'S': 8, 'SE': 9, 'SSE': 10, 'SSW': 11, 'SW': 12, 'W': 13, 'WNW': 14, 'WSW': 15}\n################\nWindDir9am\n{'E': 0, 'ENE': 1, 'ESE': 2, 'N': 3, 'NE': 4, 'NNE': 5, 'NNW': 6, 'NW': 7, 'S': 8, 'SE': 9, 'SSE': 10, 'SSW': 11, 'SW': 12, 'W': 13, 'WNW': 14, 'WSW': 15}\n################\nWindGustDir\n{'E': 0, 'ENE': 1, 'ESE': 2, 'N': 3, 'NE': 4, 'NNE': 5, 'NNW': 6, 'NW': 7, 'S': 8, 'SE': 9, 'SSE': 10, 'SSW': 11, 'SW': 12, 'W': 13, 'WNW': 14, 'WSW': 15}\n################\nLocation\n{'AliceSprings': 0, 'Brisbane': 1, 'Cairns': 2, 'Canberra': 3, 'Cobar': 4, 'CoffsHarbour': 5, 'Darwin': 6, 'Hobart': 7, 'Melbourne': 8, 'MelbourneAirport': 9, 'Mildura': 10, 'Moree': 11, 'MountGambier': 12, 'NorfolkIsland': 13, 'Nuriootpa': 14, 'Perth': 15, 'PerthAirport': 16, 'Portland': 17, 'Sale': 18, 'Sydney': 19, 'SydneyAirport': 20, 'Townsville': 21, 'WaggaWagga': 22, 'Watsonia': 23, 'Williamtown': 24, 'Woomera': 25}\n################\n",
          "name": "stdout"
        },
        {
          "output_type": "stream",
          "text": "/tmp/wsuser/ipykernel_164/3716255542.py:4: SettingWithCopyWarning: \nA value is trying to be set on a copy of a slice from a DataFrame.\nTry using .loc[row_indexer,col_indexer] = value instead\n\nSee the caveats in the documentation: https://pandas.pydata.org/pandas-docs/stable/user_guide/indexing.html#returning-a-view-versus-a-copy\n  df[col] = le.fit_transform(df[col])\n",
          "name": "stderr"
        }
      ]
    },
    {
      "metadata": {
        "colab": {
          "base_uri": "https://localhost:8080/",
          "height": 661
        },
        "id": "yGoM-KaAWUZ4",
        "outputId": "da17ce2a-f214-4ef5-93f7-6088d7884989"
      },
      "cell_type": "code",
      "source": [
        "df"
      ],
      "execution_count": null,
      "outputs": [
        {
          "output_type": "execute_result",
          "execution_count": 17,
          "data": {
            "text/plain": "              Date  Location  MinTemp  MaxTemp  Rainfall  Evaporation  \\\n5939    2009-01-01         4     17.9     35.2       0.0         12.0   \n5940    2009-01-02         4     18.4     28.9       0.0         14.8   \n5942    2009-01-04         4     19.4     37.6       0.0         10.8   \n5943    2009-01-05         4     21.9     38.4       0.0         11.4   \n5944    2009-01-06         4     24.2     41.0       0.0         11.2   \n...            ...       ...      ...      ...       ...          ...   \n139108  2017-06-20         6     19.3     33.4       0.0          6.0   \n139109  2017-06-21         6     21.2     32.6       0.0          7.6   \n139110  2017-06-22         6     20.7     32.8       0.0          5.6   \n139111  2017-06-23         6     19.5     31.8       0.0          6.2   \n139112  2017-06-24         6     20.2     31.7       0.0          5.6   \n\n        Sunshine  WindGustDir  WindGustSpeed  WindDir9am  ...  Humidity3pm  \\\n5939        12.3           11           48.0           1  ...         13.0   \n5940        13.0            8           37.0          10  ...          8.0   \n5942        10.6            5           46.0           5  ...         22.0   \n5943        12.2           14           31.0          14  ...         22.0   \n5944         8.4           14           35.0           7  ...         15.0   \n...          ...          ...            ...         ...  ...          ...   \n139108      11.0            1           35.0           9  ...         32.0   \n139109       8.6            0           37.0           9  ...         28.0   \n139110      11.0            0           33.0           0  ...         23.0   \n139111      10.6            2           26.0           9  ...         58.0   \n139112      10.7            1           30.0           1  ...         32.0   \n\n        Pressure9am  Pressure3pm  Cloud9am  Cloud3pm  Temp9am  Temp3pm  \\\n5939         1006.3       1004.4       2.0       5.0     26.6     33.4   \n5940         1012.9       1012.1       1.0       1.0     20.3     27.0   \n5942         1012.3       1009.2       1.0       6.0     28.7     34.9   \n5943         1012.7       1009.1       1.0       5.0     29.1     35.6   \n5944         1010.7       1007.4       1.0       6.0     33.6     37.6   \n...             ...          ...       ...       ...      ...      ...   \n139108       1013.9       1010.5       0.0       1.0     24.5     32.3   \n139109       1014.6       1011.2       7.0       0.0     24.8     32.0   \n139110       1015.3       1011.8       0.0       0.0     24.8     32.1   \n139111       1014.9       1010.7       1.0       1.0     24.8     29.2   \n139112       1013.9       1009.7       6.0       5.0     25.4     31.0   \n\n        RainToday  RISK_MM  RainTomorrow  \n5939            0      0.0             0  \n5940            0      0.0             0  \n5942            0      0.0             0  \n5943            0      0.0             0  \n5944            0      0.0             0  \n...           ...      ...           ...  \n139108          0      0.0             0  \n139109          0      0.0             0  \n139110          0      0.0             0  \n139111          0      0.0             0  \n139112          0      0.0             0  \n\n[56420 rows x 24 columns]",
            "text/html": "<div>\n<style scoped>\n    .dataframe tbody tr th:only-of-type {\n        vertical-align: middle;\n    }\n\n    .dataframe tbody tr th {\n        vertical-align: top;\n    }\n\n    .dataframe thead th {\n        text-align: right;\n    }\n</style>\n<table border=\"1\" class=\"dataframe\">\n  <thead>\n    <tr style=\"text-align: right;\">\n      <th></th>\n      <th>Date</th>\n      <th>Location</th>\n      <th>MinTemp</th>\n      <th>MaxTemp</th>\n      <th>Rainfall</th>\n      <th>Evaporation</th>\n      <th>Sunshine</th>\n      <th>WindGustDir</th>\n      <th>WindGustSpeed</th>\n      <th>WindDir9am</th>\n      <th>...</th>\n      <th>Humidity3pm</th>\n      <th>Pressure9am</th>\n      <th>Pressure3pm</th>\n      <th>Cloud9am</th>\n      <th>Cloud3pm</th>\n      <th>Temp9am</th>\n      <th>Temp3pm</th>\n      <th>RainToday</th>\n      <th>RISK_MM</th>\n      <th>RainTomorrow</th>\n    </tr>\n  </thead>\n  <tbody>\n    <tr>\n      <th>5939</th>\n      <td>2009-01-01</td>\n      <td>4</td>\n      <td>17.9</td>\n      <td>35.2</td>\n      <td>0.0</td>\n      <td>12.0</td>\n      <td>12.3</td>\n      <td>11</td>\n      <td>48.0</td>\n      <td>1</td>\n      <td>...</td>\n      <td>13.0</td>\n      <td>1006.3</td>\n      <td>1004.4</td>\n      <td>2.0</td>\n      <td>5.0</td>\n      <td>26.6</td>\n      <td>33.4</td>\n      <td>0</td>\n      <td>0.0</td>\n      <td>0</td>\n    </tr>\n    <tr>\n      <th>5940</th>\n      <td>2009-01-02</td>\n      <td>4</td>\n      <td>18.4</td>\n      <td>28.9</td>\n      <td>0.0</td>\n      <td>14.8</td>\n      <td>13.0</td>\n      <td>8</td>\n      <td>37.0</td>\n      <td>10</td>\n      <td>...</td>\n      <td>8.0</td>\n      <td>1012.9</td>\n      <td>1012.1</td>\n      <td>1.0</td>\n      <td>1.0</td>\n      <td>20.3</td>\n      <td>27.0</td>\n      <td>0</td>\n      <td>0.0</td>\n      <td>0</td>\n    </tr>\n    <tr>\n      <th>5942</th>\n      <td>2009-01-04</td>\n      <td>4</td>\n      <td>19.4</td>\n      <td>37.6</td>\n      <td>0.0</td>\n      <td>10.8</td>\n      <td>10.6</td>\n      <td>5</td>\n      <td>46.0</td>\n      <td>5</td>\n      <td>...</td>\n      <td>22.0</td>\n      <td>1012.3</td>\n      <td>1009.2</td>\n      <td>1.0</td>\n      <td>6.0</td>\n      <td>28.7</td>\n      <td>34.9</td>\n      <td>0</td>\n      <td>0.0</td>\n      <td>0</td>\n    </tr>\n    <tr>\n      <th>5943</th>\n      <td>2009-01-05</td>\n      <td>4</td>\n      <td>21.9</td>\n      <td>38.4</td>\n      <td>0.0</td>\n      <td>11.4</td>\n      <td>12.2</td>\n      <td>14</td>\n      <td>31.0</td>\n      <td>14</td>\n      <td>...</td>\n      <td>22.0</td>\n      <td>1012.7</td>\n      <td>1009.1</td>\n      <td>1.0</td>\n      <td>5.0</td>\n      <td>29.1</td>\n      <td>35.6</td>\n      <td>0</td>\n      <td>0.0</td>\n      <td>0</td>\n    </tr>\n    <tr>\n      <th>5944</th>\n      <td>2009-01-06</td>\n      <td>4</td>\n      <td>24.2</td>\n      <td>41.0</td>\n      <td>0.0</td>\n      <td>11.2</td>\n      <td>8.4</td>\n      <td>14</td>\n      <td>35.0</td>\n      <td>7</td>\n      <td>...</td>\n      <td>15.0</td>\n      <td>1010.7</td>\n      <td>1007.4</td>\n      <td>1.0</td>\n      <td>6.0</td>\n      <td>33.6</td>\n      <td>37.6</td>\n      <td>0</td>\n      <td>0.0</td>\n      <td>0</td>\n    </tr>\n    <tr>\n      <th>...</th>\n      <td>...</td>\n      <td>...</td>\n      <td>...</td>\n      <td>...</td>\n      <td>...</td>\n      <td>...</td>\n      <td>...</td>\n      <td>...</td>\n      <td>...</td>\n      <td>...</td>\n      <td>...</td>\n      <td>...</td>\n      <td>...</td>\n      <td>...</td>\n      <td>...</td>\n      <td>...</td>\n      <td>...</td>\n      <td>...</td>\n      <td>...</td>\n      <td>...</td>\n      <td>...</td>\n    </tr>\n    <tr>\n      <th>139108</th>\n      <td>2017-06-20</td>\n      <td>6</td>\n      <td>19.3</td>\n      <td>33.4</td>\n      <td>0.0</td>\n      <td>6.0</td>\n      <td>11.0</td>\n      <td>1</td>\n      <td>35.0</td>\n      <td>9</td>\n      <td>...</td>\n      <td>32.0</td>\n      <td>1013.9</td>\n      <td>1010.5</td>\n      <td>0.0</td>\n      <td>1.0</td>\n      <td>24.5</td>\n      <td>32.3</td>\n      <td>0</td>\n      <td>0.0</td>\n      <td>0</td>\n    </tr>\n    <tr>\n      <th>139109</th>\n      <td>2017-06-21</td>\n      <td>6</td>\n      <td>21.2</td>\n      <td>32.6</td>\n      <td>0.0</td>\n      <td>7.6</td>\n      <td>8.6</td>\n      <td>0</td>\n      <td>37.0</td>\n      <td>9</td>\n      <td>...</td>\n      <td>28.0</td>\n      <td>1014.6</td>\n      <td>1011.2</td>\n      <td>7.0</td>\n      <td>0.0</td>\n      <td>24.8</td>\n      <td>32.0</td>\n      <td>0</td>\n      <td>0.0</td>\n      <td>0</td>\n    </tr>\n    <tr>\n      <th>139110</th>\n      <td>2017-06-22</td>\n      <td>6</td>\n      <td>20.7</td>\n      <td>32.8</td>\n      <td>0.0</td>\n      <td>5.6</td>\n      <td>11.0</td>\n      <td>0</td>\n      <td>33.0</td>\n      <td>0</td>\n      <td>...</td>\n      <td>23.0</td>\n      <td>1015.3</td>\n      <td>1011.8</td>\n      <td>0.0</td>\n      <td>0.0</td>\n      <td>24.8</td>\n      <td>32.1</td>\n      <td>0</td>\n      <td>0.0</td>\n      <td>0</td>\n    </tr>\n    <tr>\n      <th>139111</th>\n      <td>2017-06-23</td>\n      <td>6</td>\n      <td>19.5</td>\n      <td>31.8</td>\n      <td>0.0</td>\n      <td>6.2</td>\n      <td>10.6</td>\n      <td>2</td>\n      <td>26.0</td>\n      <td>9</td>\n      <td>...</td>\n      <td>58.0</td>\n      <td>1014.9</td>\n      <td>1010.7</td>\n      <td>1.0</td>\n      <td>1.0</td>\n      <td>24.8</td>\n      <td>29.2</td>\n      <td>0</td>\n      <td>0.0</td>\n      <td>0</td>\n    </tr>\n    <tr>\n      <th>139112</th>\n      <td>2017-06-24</td>\n      <td>6</td>\n      <td>20.2</td>\n      <td>31.7</td>\n      <td>0.0</td>\n      <td>5.6</td>\n      <td>10.7</td>\n      <td>1</td>\n      <td>30.0</td>\n      <td>1</td>\n      <td>...</td>\n      <td>32.0</td>\n      <td>1013.9</td>\n      <td>1009.7</td>\n      <td>6.0</td>\n      <td>5.0</td>\n      <td>25.4</td>\n      <td>31.0</td>\n      <td>0</td>\n      <td>0.0</td>\n      <td>0</td>\n    </tr>\n  </tbody>\n</table>\n<p>56420 rows × 24 columns</p>\n</div>"
          },
          "metadata": {}
        }
      ]
    },
    {
      "metadata": {
        "colab": {
          "base_uri": "https://localhost:8080/"
        },
        "id": "4dxPRMSoPgMM",
        "outputId": "a36f4982-e093-4d31-9bbc-bc38655a7db5"
      },
      "cell_type": "code",
      "source": [
        "for col in df.columns:\n",
        "  print(col, df[col].dtype)"
      ],
      "execution_count": null,
      "outputs": [
        {
          "output_type": "stream",
          "text": "Date object\nLocation int64\nMinTemp float64\nMaxTemp float64\nRainfall float64\nEvaporation float64\nSunshine float64\nWindGustDir int64\nWindGustSpeed float64\nWindDir9am int64\nWindDir3pm int64\nWindSpeed9am float64\nWindSpeed3pm float64\nHumidity9am float64\nHumidity3pm float64\nPressure9am float64\nPressure3pm float64\nCloud9am float64\nCloud3pm float64\nTemp9am float64\nTemp3pm float64\nRainToday int64\nRISK_MM float64\nRainTomorrow int64\n",
          "name": "stdout"
        }
      ]
    },
    {
      "metadata": {
        "colab": {
          "base_uri": "https://localhost:8080/",
          "height": 661
        },
        "id": "jhsFIsC5UoEz",
        "outputId": "c07655c6-6056-402b-d275-af2aa751fd17"
      },
      "cell_type": "code",
      "source": [
        "df['Date'] = pd.to_datetime(df['Date'], \n",
        " format = '%Y-%m-%d', \n",
        " errors = 'coerce')\n",
        "df"
      ],
      "execution_count": null,
      "outputs": [
        {
          "output_type": "stream",
          "text": "/tmp/wsuser/ipykernel_164/2138458512.py:1: SettingWithCopyWarning: \nA value is trying to be set on a copy of a slice from a DataFrame.\nTry using .loc[row_indexer,col_indexer] = value instead\n\nSee the caveats in the documentation: https://pandas.pydata.org/pandas-docs/stable/user_guide/indexing.html#returning-a-view-versus-a-copy\n  df['Date'] = pd.to_datetime(df['Date'],\n",
          "name": "stderr"
        },
        {
          "output_type": "execute_result",
          "execution_count": 19,
          "data": {
            "text/plain": "             Date  Location  MinTemp  MaxTemp  Rainfall  Evaporation  \\\n5939   2009-01-01         4     17.9     35.2       0.0         12.0   \n5940   2009-01-02         4     18.4     28.9       0.0         14.8   \n5942   2009-01-04         4     19.4     37.6       0.0         10.8   \n5943   2009-01-05         4     21.9     38.4       0.0         11.4   \n5944   2009-01-06         4     24.2     41.0       0.0         11.2   \n...           ...       ...      ...      ...       ...          ...   \n139108 2017-06-20         6     19.3     33.4       0.0          6.0   \n139109 2017-06-21         6     21.2     32.6       0.0          7.6   \n139110 2017-06-22         6     20.7     32.8       0.0          5.6   \n139111 2017-06-23         6     19.5     31.8       0.0          6.2   \n139112 2017-06-24         6     20.2     31.7       0.0          5.6   \n\n        Sunshine  WindGustDir  WindGustSpeed  WindDir9am  ...  Humidity3pm  \\\n5939        12.3           11           48.0           1  ...         13.0   \n5940        13.0            8           37.0          10  ...          8.0   \n5942        10.6            5           46.0           5  ...         22.0   \n5943        12.2           14           31.0          14  ...         22.0   \n5944         8.4           14           35.0           7  ...         15.0   \n...          ...          ...            ...         ...  ...          ...   \n139108      11.0            1           35.0           9  ...         32.0   \n139109       8.6            0           37.0           9  ...         28.0   \n139110      11.0            0           33.0           0  ...         23.0   \n139111      10.6            2           26.0           9  ...         58.0   \n139112      10.7            1           30.0           1  ...         32.0   \n\n        Pressure9am  Pressure3pm  Cloud9am  Cloud3pm  Temp9am  Temp3pm  \\\n5939         1006.3       1004.4       2.0       5.0     26.6     33.4   \n5940         1012.9       1012.1       1.0       1.0     20.3     27.0   \n5942         1012.3       1009.2       1.0       6.0     28.7     34.9   \n5943         1012.7       1009.1       1.0       5.0     29.1     35.6   \n5944         1010.7       1007.4       1.0       6.0     33.6     37.6   \n...             ...          ...       ...       ...      ...      ...   \n139108       1013.9       1010.5       0.0       1.0     24.5     32.3   \n139109       1014.6       1011.2       7.0       0.0     24.8     32.0   \n139110       1015.3       1011.8       0.0       0.0     24.8     32.1   \n139111       1014.9       1010.7       1.0       1.0     24.8     29.2   \n139112       1013.9       1009.7       6.0       5.0     25.4     31.0   \n\n        RainToday  RISK_MM  RainTomorrow  \n5939            0      0.0             0  \n5940            0      0.0             0  \n5942            0      0.0             0  \n5943            0      0.0             0  \n5944            0      0.0             0  \n...           ...      ...           ...  \n139108          0      0.0             0  \n139109          0      0.0             0  \n139110          0      0.0             0  \n139111          0      0.0             0  \n139112          0      0.0             0  \n\n[56420 rows x 24 columns]",
            "text/html": "<div>\n<style scoped>\n    .dataframe tbody tr th:only-of-type {\n        vertical-align: middle;\n    }\n\n    .dataframe tbody tr th {\n        vertical-align: top;\n    }\n\n    .dataframe thead th {\n        text-align: right;\n    }\n</style>\n<table border=\"1\" class=\"dataframe\">\n  <thead>\n    <tr style=\"text-align: right;\">\n      <th></th>\n      <th>Date</th>\n      <th>Location</th>\n      <th>MinTemp</th>\n      <th>MaxTemp</th>\n      <th>Rainfall</th>\n      <th>Evaporation</th>\n      <th>Sunshine</th>\n      <th>WindGustDir</th>\n      <th>WindGustSpeed</th>\n      <th>WindDir9am</th>\n      <th>...</th>\n      <th>Humidity3pm</th>\n      <th>Pressure9am</th>\n      <th>Pressure3pm</th>\n      <th>Cloud9am</th>\n      <th>Cloud3pm</th>\n      <th>Temp9am</th>\n      <th>Temp3pm</th>\n      <th>RainToday</th>\n      <th>RISK_MM</th>\n      <th>RainTomorrow</th>\n    </tr>\n  </thead>\n  <tbody>\n    <tr>\n      <th>5939</th>\n      <td>2009-01-01</td>\n      <td>4</td>\n      <td>17.9</td>\n      <td>35.2</td>\n      <td>0.0</td>\n      <td>12.0</td>\n      <td>12.3</td>\n      <td>11</td>\n      <td>48.0</td>\n      <td>1</td>\n      <td>...</td>\n      <td>13.0</td>\n      <td>1006.3</td>\n      <td>1004.4</td>\n      <td>2.0</td>\n      <td>5.0</td>\n      <td>26.6</td>\n      <td>33.4</td>\n      <td>0</td>\n      <td>0.0</td>\n      <td>0</td>\n    </tr>\n    <tr>\n      <th>5940</th>\n      <td>2009-01-02</td>\n      <td>4</td>\n      <td>18.4</td>\n      <td>28.9</td>\n      <td>0.0</td>\n      <td>14.8</td>\n      <td>13.0</td>\n      <td>8</td>\n      <td>37.0</td>\n      <td>10</td>\n      <td>...</td>\n      <td>8.0</td>\n      <td>1012.9</td>\n      <td>1012.1</td>\n      <td>1.0</td>\n      <td>1.0</td>\n      <td>20.3</td>\n      <td>27.0</td>\n      <td>0</td>\n      <td>0.0</td>\n      <td>0</td>\n    </tr>\n    <tr>\n      <th>5942</th>\n      <td>2009-01-04</td>\n      <td>4</td>\n      <td>19.4</td>\n      <td>37.6</td>\n      <td>0.0</td>\n      <td>10.8</td>\n      <td>10.6</td>\n      <td>5</td>\n      <td>46.0</td>\n      <td>5</td>\n      <td>...</td>\n      <td>22.0</td>\n      <td>1012.3</td>\n      <td>1009.2</td>\n      <td>1.0</td>\n      <td>6.0</td>\n      <td>28.7</td>\n      <td>34.9</td>\n      <td>0</td>\n      <td>0.0</td>\n      <td>0</td>\n    </tr>\n    <tr>\n      <th>5943</th>\n      <td>2009-01-05</td>\n      <td>4</td>\n      <td>21.9</td>\n      <td>38.4</td>\n      <td>0.0</td>\n      <td>11.4</td>\n      <td>12.2</td>\n      <td>14</td>\n      <td>31.0</td>\n      <td>14</td>\n      <td>...</td>\n      <td>22.0</td>\n      <td>1012.7</td>\n      <td>1009.1</td>\n      <td>1.0</td>\n      <td>5.0</td>\n      <td>29.1</td>\n      <td>35.6</td>\n      <td>0</td>\n      <td>0.0</td>\n      <td>0</td>\n    </tr>\n    <tr>\n      <th>5944</th>\n      <td>2009-01-06</td>\n      <td>4</td>\n      <td>24.2</td>\n      <td>41.0</td>\n      <td>0.0</td>\n      <td>11.2</td>\n      <td>8.4</td>\n      <td>14</td>\n      <td>35.0</td>\n      <td>7</td>\n      <td>...</td>\n      <td>15.0</td>\n      <td>1010.7</td>\n      <td>1007.4</td>\n      <td>1.0</td>\n      <td>6.0</td>\n      <td>33.6</td>\n      <td>37.6</td>\n      <td>0</td>\n      <td>0.0</td>\n      <td>0</td>\n    </tr>\n    <tr>\n      <th>...</th>\n      <td>...</td>\n      <td>...</td>\n      <td>...</td>\n      <td>...</td>\n      <td>...</td>\n      <td>...</td>\n      <td>...</td>\n      <td>...</td>\n      <td>...</td>\n      <td>...</td>\n      <td>...</td>\n      <td>...</td>\n      <td>...</td>\n      <td>...</td>\n      <td>...</td>\n      <td>...</td>\n      <td>...</td>\n      <td>...</td>\n      <td>...</td>\n      <td>...</td>\n      <td>...</td>\n    </tr>\n    <tr>\n      <th>139108</th>\n      <td>2017-06-20</td>\n      <td>6</td>\n      <td>19.3</td>\n      <td>33.4</td>\n      <td>0.0</td>\n      <td>6.0</td>\n      <td>11.0</td>\n      <td>1</td>\n      <td>35.0</td>\n      <td>9</td>\n      <td>...</td>\n      <td>32.0</td>\n      <td>1013.9</td>\n      <td>1010.5</td>\n      <td>0.0</td>\n      <td>1.0</td>\n      <td>24.5</td>\n      <td>32.3</td>\n      <td>0</td>\n      <td>0.0</td>\n      <td>0</td>\n    </tr>\n    <tr>\n      <th>139109</th>\n      <td>2017-06-21</td>\n      <td>6</td>\n      <td>21.2</td>\n      <td>32.6</td>\n      <td>0.0</td>\n      <td>7.6</td>\n      <td>8.6</td>\n      <td>0</td>\n      <td>37.0</td>\n      <td>9</td>\n      <td>...</td>\n      <td>28.0</td>\n      <td>1014.6</td>\n      <td>1011.2</td>\n      <td>7.0</td>\n      <td>0.0</td>\n      <td>24.8</td>\n      <td>32.0</td>\n      <td>0</td>\n      <td>0.0</td>\n      <td>0</td>\n    </tr>\n    <tr>\n      <th>139110</th>\n      <td>2017-06-22</td>\n      <td>6</td>\n      <td>20.7</td>\n      <td>32.8</td>\n      <td>0.0</td>\n      <td>5.6</td>\n      <td>11.0</td>\n      <td>0</td>\n      <td>33.0</td>\n      <td>0</td>\n      <td>...</td>\n      <td>23.0</td>\n      <td>1015.3</td>\n      <td>1011.8</td>\n      <td>0.0</td>\n      <td>0.0</td>\n      <td>24.8</td>\n      <td>32.1</td>\n      <td>0</td>\n      <td>0.0</td>\n      <td>0</td>\n    </tr>\n    <tr>\n      <th>139111</th>\n      <td>2017-06-23</td>\n      <td>6</td>\n      <td>19.5</td>\n      <td>31.8</td>\n      <td>0.0</td>\n      <td>6.2</td>\n      <td>10.6</td>\n      <td>2</td>\n      <td>26.0</td>\n      <td>9</td>\n      <td>...</td>\n      <td>58.0</td>\n      <td>1014.9</td>\n      <td>1010.7</td>\n      <td>1.0</td>\n      <td>1.0</td>\n      <td>24.8</td>\n      <td>29.2</td>\n      <td>0</td>\n      <td>0.0</td>\n      <td>0</td>\n    </tr>\n    <tr>\n      <th>139112</th>\n      <td>2017-06-24</td>\n      <td>6</td>\n      <td>20.2</td>\n      <td>31.7</td>\n      <td>0.0</td>\n      <td>5.6</td>\n      <td>10.7</td>\n      <td>1</td>\n      <td>30.0</td>\n      <td>1</td>\n      <td>...</td>\n      <td>32.0</td>\n      <td>1013.9</td>\n      <td>1009.7</td>\n      <td>6.0</td>\n      <td>5.0</td>\n      <td>25.4</td>\n      <td>31.0</td>\n      <td>0</td>\n      <td>0.0</td>\n      <td>0</td>\n    </tr>\n  </tbody>\n</table>\n<p>56420 rows × 24 columns</p>\n</div>"
          },
          "metadata": {}
        }
      ]
    },
    {
      "metadata": {
        "colab": {
          "base_uri": "https://localhost:8080/"
        },
        "id": "IVyRHUIEadDO",
        "outputId": "3f897f37-025e-494a-c762-277364cad7c4"
      },
      "cell_type": "code",
      "source": [
        "for col in df.columns:\n",
        "  print(col, df[col].dtype)"
      ],
      "execution_count": null,
      "outputs": [
        {
          "output_type": "stream",
          "text": "Date datetime64[ns]\nLocation int64\nMinTemp float64\nMaxTemp float64\nRainfall float64\nEvaporation float64\nSunshine float64\nWindGustDir int64\nWindGustSpeed float64\nWindDir9am int64\nWindDir3pm int64\nWindSpeed9am float64\nWindSpeed3pm float64\nHumidity9am float64\nHumidity3pm float64\nPressure9am float64\nPressure3pm float64\nCloud9am float64\nCloud3pm float64\nTemp9am float64\nTemp3pm float64\nRainToday int64\nRISK_MM float64\nRainTomorrow int64\n",
          "name": "stdout"
        }
      ]
    },
    {
      "metadata": {
        "colab": {
          "base_uri": "https://localhost:8080/",
          "height": 661
        },
        "id": "wD-jj_29ahge",
        "outputId": "40a2354f-8008-4a0e-d23f-d96ffe0ad0f0"
      },
      "cell_type": "code",
      "source": [
        "df['year'] = df['Date'].dt.year\n",
        "df['month'] = df['Date'].dt.month\n",
        "df['day'] = df['Date'].dt.day\n",
        "df"
      ],
      "execution_count": null,
      "outputs": [
        {
          "output_type": "stream",
          "text": "/tmp/wsuser/ipykernel_164/1056399479.py:1: SettingWithCopyWarning: \nA value is trying to be set on a copy of a slice from a DataFrame.\nTry using .loc[row_indexer,col_indexer] = value instead\n\nSee the caveats in the documentation: https://pandas.pydata.org/pandas-docs/stable/user_guide/indexing.html#returning-a-view-versus-a-copy\n  df['year'] = df['Date'].dt.year\n/tmp/wsuser/ipykernel_164/1056399479.py:2: SettingWithCopyWarning: \nA value is trying to be set on a copy of a slice from a DataFrame.\nTry using .loc[row_indexer,col_indexer] = value instead\n\nSee the caveats in the documentation: https://pandas.pydata.org/pandas-docs/stable/user_guide/indexing.html#returning-a-view-versus-a-copy\n  df['month'] = df['Date'].dt.month\n/tmp/wsuser/ipykernel_164/1056399479.py:3: SettingWithCopyWarning: \nA value is trying to be set on a copy of a slice from a DataFrame.\nTry using .loc[row_indexer,col_indexer] = value instead\n\nSee the caveats in the documentation: https://pandas.pydata.org/pandas-docs/stable/user_guide/indexing.html#returning-a-view-versus-a-copy\n  df['day'] = df['Date'].dt.day\n",
          "name": "stderr"
        },
        {
          "output_type": "execute_result",
          "execution_count": 21,
          "data": {
            "text/plain": "             Date  Location  MinTemp  MaxTemp  Rainfall  Evaporation  \\\n5939   2009-01-01         4     17.9     35.2       0.0         12.0   \n5940   2009-01-02         4     18.4     28.9       0.0         14.8   \n5942   2009-01-04         4     19.4     37.6       0.0         10.8   \n5943   2009-01-05         4     21.9     38.4       0.0         11.4   \n5944   2009-01-06         4     24.2     41.0       0.0         11.2   \n...           ...       ...      ...      ...       ...          ...   \n139108 2017-06-20         6     19.3     33.4       0.0          6.0   \n139109 2017-06-21         6     21.2     32.6       0.0          7.6   \n139110 2017-06-22         6     20.7     32.8       0.0          5.6   \n139111 2017-06-23         6     19.5     31.8       0.0          6.2   \n139112 2017-06-24         6     20.2     31.7       0.0          5.6   \n\n        Sunshine  WindGustDir  WindGustSpeed  WindDir9am  ...  Cloud9am  \\\n5939        12.3           11           48.0           1  ...       2.0   \n5940        13.0            8           37.0          10  ...       1.0   \n5942        10.6            5           46.0           5  ...       1.0   \n5943        12.2           14           31.0          14  ...       1.0   \n5944         8.4           14           35.0           7  ...       1.0   \n...          ...          ...            ...         ...  ...       ...   \n139108      11.0            1           35.0           9  ...       0.0   \n139109       8.6            0           37.0           9  ...       7.0   \n139110      11.0            0           33.0           0  ...       0.0   \n139111      10.6            2           26.0           9  ...       1.0   \n139112      10.7            1           30.0           1  ...       6.0   \n\n        Cloud3pm  Temp9am  Temp3pm  RainToday  RISK_MM  RainTomorrow  year  \\\n5939         5.0     26.6     33.4          0      0.0             0  2009   \n5940         1.0     20.3     27.0          0      0.0             0  2009   \n5942         6.0     28.7     34.9          0      0.0             0  2009   \n5943         5.0     29.1     35.6          0      0.0             0  2009   \n5944         6.0     33.6     37.6          0      0.0             0  2009   \n...          ...      ...      ...        ...      ...           ...   ...   \n139108       1.0     24.5     32.3          0      0.0             0  2017   \n139109       0.0     24.8     32.0          0      0.0             0  2017   \n139110       0.0     24.8     32.1          0      0.0             0  2017   \n139111       1.0     24.8     29.2          0      0.0             0  2017   \n139112       5.0     25.4     31.0          0      0.0             0  2017   \n\n        month  day  \n5939        1    1  \n5940        1    2  \n5942        1    4  \n5943        1    5  \n5944        1    6  \n...       ...  ...  \n139108      6   20  \n139109      6   21  \n139110      6   22  \n139111      6   23  \n139112      6   24  \n\n[56420 rows x 27 columns]",
            "text/html": "<div>\n<style scoped>\n    .dataframe tbody tr th:only-of-type {\n        vertical-align: middle;\n    }\n\n    .dataframe tbody tr th {\n        vertical-align: top;\n    }\n\n    .dataframe thead th {\n        text-align: right;\n    }\n</style>\n<table border=\"1\" class=\"dataframe\">\n  <thead>\n    <tr style=\"text-align: right;\">\n      <th></th>\n      <th>Date</th>\n      <th>Location</th>\n      <th>MinTemp</th>\n      <th>MaxTemp</th>\n      <th>Rainfall</th>\n      <th>Evaporation</th>\n      <th>Sunshine</th>\n      <th>WindGustDir</th>\n      <th>WindGustSpeed</th>\n      <th>WindDir9am</th>\n      <th>...</th>\n      <th>Cloud9am</th>\n      <th>Cloud3pm</th>\n      <th>Temp9am</th>\n      <th>Temp3pm</th>\n      <th>RainToday</th>\n      <th>RISK_MM</th>\n      <th>RainTomorrow</th>\n      <th>year</th>\n      <th>month</th>\n      <th>day</th>\n    </tr>\n  </thead>\n  <tbody>\n    <tr>\n      <th>5939</th>\n      <td>2009-01-01</td>\n      <td>4</td>\n      <td>17.9</td>\n      <td>35.2</td>\n      <td>0.0</td>\n      <td>12.0</td>\n      <td>12.3</td>\n      <td>11</td>\n      <td>48.0</td>\n      <td>1</td>\n      <td>...</td>\n      <td>2.0</td>\n      <td>5.0</td>\n      <td>26.6</td>\n      <td>33.4</td>\n      <td>0</td>\n      <td>0.0</td>\n      <td>0</td>\n      <td>2009</td>\n      <td>1</td>\n      <td>1</td>\n    </tr>\n    <tr>\n      <th>5940</th>\n      <td>2009-01-02</td>\n      <td>4</td>\n      <td>18.4</td>\n      <td>28.9</td>\n      <td>0.0</td>\n      <td>14.8</td>\n      <td>13.0</td>\n      <td>8</td>\n      <td>37.0</td>\n      <td>10</td>\n      <td>...</td>\n      <td>1.0</td>\n      <td>1.0</td>\n      <td>20.3</td>\n      <td>27.0</td>\n      <td>0</td>\n      <td>0.0</td>\n      <td>0</td>\n      <td>2009</td>\n      <td>1</td>\n      <td>2</td>\n    </tr>\n    <tr>\n      <th>5942</th>\n      <td>2009-01-04</td>\n      <td>4</td>\n      <td>19.4</td>\n      <td>37.6</td>\n      <td>0.0</td>\n      <td>10.8</td>\n      <td>10.6</td>\n      <td>5</td>\n      <td>46.0</td>\n      <td>5</td>\n      <td>...</td>\n      <td>1.0</td>\n      <td>6.0</td>\n      <td>28.7</td>\n      <td>34.9</td>\n      <td>0</td>\n      <td>0.0</td>\n      <td>0</td>\n      <td>2009</td>\n      <td>1</td>\n      <td>4</td>\n    </tr>\n    <tr>\n      <th>5943</th>\n      <td>2009-01-05</td>\n      <td>4</td>\n      <td>21.9</td>\n      <td>38.4</td>\n      <td>0.0</td>\n      <td>11.4</td>\n      <td>12.2</td>\n      <td>14</td>\n      <td>31.0</td>\n      <td>14</td>\n      <td>...</td>\n      <td>1.0</td>\n      <td>5.0</td>\n      <td>29.1</td>\n      <td>35.6</td>\n      <td>0</td>\n      <td>0.0</td>\n      <td>0</td>\n      <td>2009</td>\n      <td>1</td>\n      <td>5</td>\n    </tr>\n    <tr>\n      <th>5944</th>\n      <td>2009-01-06</td>\n      <td>4</td>\n      <td>24.2</td>\n      <td>41.0</td>\n      <td>0.0</td>\n      <td>11.2</td>\n      <td>8.4</td>\n      <td>14</td>\n      <td>35.0</td>\n      <td>7</td>\n      <td>...</td>\n      <td>1.0</td>\n      <td>6.0</td>\n      <td>33.6</td>\n      <td>37.6</td>\n      <td>0</td>\n      <td>0.0</td>\n      <td>0</td>\n      <td>2009</td>\n      <td>1</td>\n      <td>6</td>\n    </tr>\n    <tr>\n      <th>...</th>\n      <td>...</td>\n      <td>...</td>\n      <td>...</td>\n      <td>...</td>\n      <td>...</td>\n      <td>...</td>\n      <td>...</td>\n      <td>...</td>\n      <td>...</td>\n      <td>...</td>\n      <td>...</td>\n      <td>...</td>\n      <td>...</td>\n      <td>...</td>\n      <td>...</td>\n      <td>...</td>\n      <td>...</td>\n      <td>...</td>\n      <td>...</td>\n      <td>...</td>\n      <td>...</td>\n    </tr>\n    <tr>\n      <th>139108</th>\n      <td>2017-06-20</td>\n      <td>6</td>\n      <td>19.3</td>\n      <td>33.4</td>\n      <td>0.0</td>\n      <td>6.0</td>\n      <td>11.0</td>\n      <td>1</td>\n      <td>35.0</td>\n      <td>9</td>\n      <td>...</td>\n      <td>0.0</td>\n      <td>1.0</td>\n      <td>24.5</td>\n      <td>32.3</td>\n      <td>0</td>\n      <td>0.0</td>\n      <td>0</td>\n      <td>2017</td>\n      <td>6</td>\n      <td>20</td>\n    </tr>\n    <tr>\n      <th>139109</th>\n      <td>2017-06-21</td>\n      <td>6</td>\n      <td>21.2</td>\n      <td>32.6</td>\n      <td>0.0</td>\n      <td>7.6</td>\n      <td>8.6</td>\n      <td>0</td>\n      <td>37.0</td>\n      <td>9</td>\n      <td>...</td>\n      <td>7.0</td>\n      <td>0.0</td>\n      <td>24.8</td>\n      <td>32.0</td>\n      <td>0</td>\n      <td>0.0</td>\n      <td>0</td>\n      <td>2017</td>\n      <td>6</td>\n      <td>21</td>\n    </tr>\n    <tr>\n      <th>139110</th>\n      <td>2017-06-22</td>\n      <td>6</td>\n      <td>20.7</td>\n      <td>32.8</td>\n      <td>0.0</td>\n      <td>5.6</td>\n      <td>11.0</td>\n      <td>0</td>\n      <td>33.0</td>\n      <td>0</td>\n      <td>...</td>\n      <td>0.0</td>\n      <td>0.0</td>\n      <td>24.8</td>\n      <td>32.1</td>\n      <td>0</td>\n      <td>0.0</td>\n      <td>0</td>\n      <td>2017</td>\n      <td>6</td>\n      <td>22</td>\n    </tr>\n    <tr>\n      <th>139111</th>\n      <td>2017-06-23</td>\n      <td>6</td>\n      <td>19.5</td>\n      <td>31.8</td>\n      <td>0.0</td>\n      <td>6.2</td>\n      <td>10.6</td>\n      <td>2</td>\n      <td>26.0</td>\n      <td>9</td>\n      <td>...</td>\n      <td>1.0</td>\n      <td>1.0</td>\n      <td>24.8</td>\n      <td>29.2</td>\n      <td>0</td>\n      <td>0.0</td>\n      <td>0</td>\n      <td>2017</td>\n      <td>6</td>\n      <td>23</td>\n    </tr>\n    <tr>\n      <th>139112</th>\n      <td>2017-06-24</td>\n      <td>6</td>\n      <td>20.2</td>\n      <td>31.7</td>\n      <td>0.0</td>\n      <td>5.6</td>\n      <td>10.7</td>\n      <td>1</td>\n      <td>30.0</td>\n      <td>1</td>\n      <td>...</td>\n      <td>6.0</td>\n      <td>5.0</td>\n      <td>25.4</td>\n      <td>31.0</td>\n      <td>0</td>\n      <td>0.0</td>\n      <td>0</td>\n      <td>2017</td>\n      <td>6</td>\n      <td>24</td>\n    </tr>\n  </tbody>\n</table>\n<p>56420 rows × 27 columns</p>\n</div>"
          },
          "metadata": {}
        }
      ]
    },
    {
      "metadata": {
        "id": "Tyc95-zAa3ft"
      },
      "cell_type": "code",
      "source": [
        "del df['Date']"
      ],
      "execution_count": null,
      "outputs": []
    },
    {
      "metadata": {
        "colab": {
          "base_uri": "https://localhost:8080/",
          "height": 488
        },
        "id": "YpYWsBU2bRdg",
        "outputId": "73513d24-877e-4bce-c564-1085fa601161"
      },
      "cell_type": "code",
      "source": [
        "df"
      ],
      "execution_count": null,
      "outputs": [
        {
          "output_type": "execute_result",
          "execution_count": 23,
          "data": {
            "text/plain": "        Location  MinTemp  MaxTemp  Rainfall  Evaporation  Sunshine  \\\n5939           4     17.9     35.2       0.0         12.0      12.3   \n5940           4     18.4     28.9       0.0         14.8      13.0   \n5942           4     19.4     37.6       0.0         10.8      10.6   \n5943           4     21.9     38.4       0.0         11.4      12.2   \n5944           4     24.2     41.0       0.0         11.2       8.4   \n...          ...      ...      ...       ...          ...       ...   \n139108         6     19.3     33.4       0.0          6.0      11.0   \n139109         6     21.2     32.6       0.0          7.6       8.6   \n139110         6     20.7     32.8       0.0          5.6      11.0   \n139111         6     19.5     31.8       0.0          6.2      10.6   \n139112         6     20.2     31.7       0.0          5.6      10.7   \n\n        WindGustDir  WindGustSpeed  WindDir9am  WindDir3pm  ...  Cloud9am  \\\n5939             11           48.0           1          12  ...       2.0   \n5940              8           37.0          10          10  ...       1.0   \n5942              5           46.0           5           6  ...       1.0   \n5943             14           31.0          14          15  ...       1.0   \n5944             14           35.0           7          14  ...       1.0   \n...             ...            ...         ...         ...  ...       ...   \n139108            1           35.0           9           4  ...       0.0   \n139109            0           37.0           9           9  ...       7.0   \n139110            0           33.0           0          13  ...       0.0   \n139111            2           26.0           9           6  ...       1.0   \n139112            1           30.0           1           6  ...       6.0   \n\n        Cloud3pm  Temp9am  Temp3pm  RainToday  RISK_MM  RainTomorrow  year  \\\n5939         5.0     26.6     33.4          0      0.0             0  2009   \n5940         1.0     20.3     27.0          0      0.0             0  2009   \n5942         6.0     28.7     34.9          0      0.0             0  2009   \n5943         5.0     29.1     35.6          0      0.0             0  2009   \n5944         6.0     33.6     37.6          0      0.0             0  2009   \n...          ...      ...      ...        ...      ...           ...   ...   \n139108       1.0     24.5     32.3          0      0.0             0  2017   \n139109       0.0     24.8     32.0          0      0.0             0  2017   \n139110       0.0     24.8     32.1          0      0.0             0  2017   \n139111       1.0     24.8     29.2          0      0.0             0  2017   \n139112       5.0     25.4     31.0          0      0.0             0  2017   \n\n        month  day  \n5939        1    1  \n5940        1    2  \n5942        1    4  \n5943        1    5  \n5944        1    6  \n...       ...  ...  \n139108      6   20  \n139109      6   21  \n139110      6   22  \n139111      6   23  \n139112      6   24  \n\n[56420 rows x 26 columns]",
            "text/html": "<div>\n<style scoped>\n    .dataframe tbody tr th:only-of-type {\n        vertical-align: middle;\n    }\n\n    .dataframe tbody tr th {\n        vertical-align: top;\n    }\n\n    .dataframe thead th {\n        text-align: right;\n    }\n</style>\n<table border=\"1\" class=\"dataframe\">\n  <thead>\n    <tr style=\"text-align: right;\">\n      <th></th>\n      <th>Location</th>\n      <th>MinTemp</th>\n      <th>MaxTemp</th>\n      <th>Rainfall</th>\n      <th>Evaporation</th>\n      <th>Sunshine</th>\n      <th>WindGustDir</th>\n      <th>WindGustSpeed</th>\n      <th>WindDir9am</th>\n      <th>WindDir3pm</th>\n      <th>...</th>\n      <th>Cloud9am</th>\n      <th>Cloud3pm</th>\n      <th>Temp9am</th>\n      <th>Temp3pm</th>\n      <th>RainToday</th>\n      <th>RISK_MM</th>\n      <th>RainTomorrow</th>\n      <th>year</th>\n      <th>month</th>\n      <th>day</th>\n    </tr>\n  </thead>\n  <tbody>\n    <tr>\n      <th>5939</th>\n      <td>4</td>\n      <td>17.9</td>\n      <td>35.2</td>\n      <td>0.0</td>\n      <td>12.0</td>\n      <td>12.3</td>\n      <td>11</td>\n      <td>48.0</td>\n      <td>1</td>\n      <td>12</td>\n      <td>...</td>\n      <td>2.0</td>\n      <td>5.0</td>\n      <td>26.6</td>\n      <td>33.4</td>\n      <td>0</td>\n      <td>0.0</td>\n      <td>0</td>\n      <td>2009</td>\n      <td>1</td>\n      <td>1</td>\n    </tr>\n    <tr>\n      <th>5940</th>\n      <td>4</td>\n      <td>18.4</td>\n      <td>28.9</td>\n      <td>0.0</td>\n      <td>14.8</td>\n      <td>13.0</td>\n      <td>8</td>\n      <td>37.0</td>\n      <td>10</td>\n      <td>10</td>\n      <td>...</td>\n      <td>1.0</td>\n      <td>1.0</td>\n      <td>20.3</td>\n      <td>27.0</td>\n      <td>0</td>\n      <td>0.0</td>\n      <td>0</td>\n      <td>2009</td>\n      <td>1</td>\n      <td>2</td>\n    </tr>\n    <tr>\n      <th>5942</th>\n      <td>4</td>\n      <td>19.4</td>\n      <td>37.6</td>\n      <td>0.0</td>\n      <td>10.8</td>\n      <td>10.6</td>\n      <td>5</td>\n      <td>46.0</td>\n      <td>5</td>\n      <td>6</td>\n      <td>...</td>\n      <td>1.0</td>\n      <td>6.0</td>\n      <td>28.7</td>\n      <td>34.9</td>\n      <td>0</td>\n      <td>0.0</td>\n      <td>0</td>\n      <td>2009</td>\n      <td>1</td>\n      <td>4</td>\n    </tr>\n    <tr>\n      <th>5943</th>\n      <td>4</td>\n      <td>21.9</td>\n      <td>38.4</td>\n      <td>0.0</td>\n      <td>11.4</td>\n      <td>12.2</td>\n      <td>14</td>\n      <td>31.0</td>\n      <td>14</td>\n      <td>15</td>\n      <td>...</td>\n      <td>1.0</td>\n      <td>5.0</td>\n      <td>29.1</td>\n      <td>35.6</td>\n      <td>0</td>\n      <td>0.0</td>\n      <td>0</td>\n      <td>2009</td>\n      <td>1</td>\n      <td>5</td>\n    </tr>\n    <tr>\n      <th>5944</th>\n      <td>4</td>\n      <td>24.2</td>\n      <td>41.0</td>\n      <td>0.0</td>\n      <td>11.2</td>\n      <td>8.4</td>\n      <td>14</td>\n      <td>35.0</td>\n      <td>7</td>\n      <td>14</td>\n      <td>...</td>\n      <td>1.0</td>\n      <td>6.0</td>\n      <td>33.6</td>\n      <td>37.6</td>\n      <td>0</td>\n      <td>0.0</td>\n      <td>0</td>\n      <td>2009</td>\n      <td>1</td>\n      <td>6</td>\n    </tr>\n    <tr>\n      <th>...</th>\n      <td>...</td>\n      <td>...</td>\n      <td>...</td>\n      <td>...</td>\n      <td>...</td>\n      <td>...</td>\n      <td>...</td>\n      <td>...</td>\n      <td>...</td>\n      <td>...</td>\n      <td>...</td>\n      <td>...</td>\n      <td>...</td>\n      <td>...</td>\n      <td>...</td>\n      <td>...</td>\n      <td>...</td>\n      <td>...</td>\n      <td>...</td>\n      <td>...</td>\n      <td>...</td>\n    </tr>\n    <tr>\n      <th>139108</th>\n      <td>6</td>\n      <td>19.3</td>\n      <td>33.4</td>\n      <td>0.0</td>\n      <td>6.0</td>\n      <td>11.0</td>\n      <td>1</td>\n      <td>35.0</td>\n      <td>9</td>\n      <td>4</td>\n      <td>...</td>\n      <td>0.0</td>\n      <td>1.0</td>\n      <td>24.5</td>\n      <td>32.3</td>\n      <td>0</td>\n      <td>0.0</td>\n      <td>0</td>\n      <td>2017</td>\n      <td>6</td>\n      <td>20</td>\n    </tr>\n    <tr>\n      <th>139109</th>\n      <td>6</td>\n      <td>21.2</td>\n      <td>32.6</td>\n      <td>0.0</td>\n      <td>7.6</td>\n      <td>8.6</td>\n      <td>0</td>\n      <td>37.0</td>\n      <td>9</td>\n      <td>9</td>\n      <td>...</td>\n      <td>7.0</td>\n      <td>0.0</td>\n      <td>24.8</td>\n      <td>32.0</td>\n      <td>0</td>\n      <td>0.0</td>\n      <td>0</td>\n      <td>2017</td>\n      <td>6</td>\n      <td>21</td>\n    </tr>\n    <tr>\n      <th>139110</th>\n      <td>6</td>\n      <td>20.7</td>\n      <td>32.8</td>\n      <td>0.0</td>\n      <td>5.6</td>\n      <td>11.0</td>\n      <td>0</td>\n      <td>33.0</td>\n      <td>0</td>\n      <td>13</td>\n      <td>...</td>\n      <td>0.0</td>\n      <td>0.0</td>\n      <td>24.8</td>\n      <td>32.1</td>\n      <td>0</td>\n      <td>0.0</td>\n      <td>0</td>\n      <td>2017</td>\n      <td>6</td>\n      <td>22</td>\n    </tr>\n    <tr>\n      <th>139111</th>\n      <td>6</td>\n      <td>19.5</td>\n      <td>31.8</td>\n      <td>0.0</td>\n      <td>6.2</td>\n      <td>10.6</td>\n      <td>2</td>\n      <td>26.0</td>\n      <td>9</td>\n      <td>6</td>\n      <td>...</td>\n      <td>1.0</td>\n      <td>1.0</td>\n      <td>24.8</td>\n      <td>29.2</td>\n      <td>0</td>\n      <td>0.0</td>\n      <td>0</td>\n      <td>2017</td>\n      <td>6</td>\n      <td>23</td>\n    </tr>\n    <tr>\n      <th>139112</th>\n      <td>6</td>\n      <td>20.2</td>\n      <td>31.7</td>\n      <td>0.0</td>\n      <td>5.6</td>\n      <td>10.7</td>\n      <td>1</td>\n      <td>30.0</td>\n      <td>1</td>\n      <td>6</td>\n      <td>...</td>\n      <td>6.0</td>\n      <td>5.0</td>\n      <td>25.4</td>\n      <td>31.0</td>\n      <td>0</td>\n      <td>0.0</td>\n      <td>0</td>\n      <td>2017</td>\n      <td>6</td>\n      <td>24</td>\n    </tr>\n  </tbody>\n</table>\n<p>56420 rows × 26 columns</p>\n</div>"
          },
          "metadata": {}
        }
      ]
    },
    {
      "metadata": {
        "colab": {
          "base_uri": "https://localhost:8080/"
        },
        "id": "M1aZcI_WbSAO",
        "outputId": "c78a60b3-1e73-49de-bb84-335f3c546ce0"
      },
      "cell_type": "code",
      "source": [
        "for col in df.columns:\n",
        "  print(col, df[col].dtype)"
      ],
      "execution_count": null,
      "outputs": [
        {
          "output_type": "stream",
          "text": "Location int64\nMinTemp float64\nMaxTemp float64\nRainfall float64\nEvaporation float64\nSunshine float64\nWindGustDir int64\nWindGustSpeed float64\nWindDir9am int64\nWindDir3pm int64\nWindSpeed9am float64\nWindSpeed3pm float64\nHumidity9am float64\nHumidity3pm float64\nPressure9am float64\nPressure3pm float64\nCloud9am float64\nCloud3pm float64\nTemp9am float64\nTemp3pm float64\nRainToday int64\nRISK_MM float64\nRainTomorrow int64\nyear int64\nmonth int64\nday int64\n",
          "name": "stdout"
        }
      ]
    },
    {
      "metadata": {
        "id": "qRIbKnXUbXcl"
      },
      "cell_type": "code",
      "source": [
        "X = df.drop('RainTomorrow', axis=1)\n",
        "Y = df['RainTomorrow']"
      ],
      "execution_count": null,
      "outputs": []
    },
    {
      "metadata": {
        "colab": {
          "base_uri": "https://localhost:8080/",
          "height": 488
        },
        "id": "by1_17dIeApi",
        "outputId": "3cef1bfb-e9fc-4ef8-df21-7d7c7e460b6d"
      },
      "cell_type": "code",
      "source": [
        "X"
      ],
      "execution_count": null,
      "outputs": [
        {
          "output_type": "execute_result",
          "execution_count": 26,
          "data": {
            "text/plain": "        Location  MinTemp  MaxTemp  Rainfall  Evaporation  Sunshine  \\\n5939           4     17.9     35.2       0.0         12.0      12.3   \n5940           4     18.4     28.9       0.0         14.8      13.0   \n5942           4     19.4     37.6       0.0         10.8      10.6   \n5943           4     21.9     38.4       0.0         11.4      12.2   \n5944           4     24.2     41.0       0.0         11.2       8.4   \n...          ...      ...      ...       ...          ...       ...   \n139108         6     19.3     33.4       0.0          6.0      11.0   \n139109         6     21.2     32.6       0.0          7.6       8.6   \n139110         6     20.7     32.8       0.0          5.6      11.0   \n139111         6     19.5     31.8       0.0          6.2      10.6   \n139112         6     20.2     31.7       0.0          5.6      10.7   \n\n        WindGustDir  WindGustSpeed  WindDir9am  WindDir3pm  ...  Pressure3pm  \\\n5939             11           48.0           1          12  ...       1004.4   \n5940              8           37.0          10          10  ...       1012.1   \n5942              5           46.0           5           6  ...       1009.2   \n5943             14           31.0          14          15  ...       1009.1   \n5944             14           35.0           7          14  ...       1007.4   \n...             ...            ...         ...         ...  ...          ...   \n139108            1           35.0           9           4  ...       1010.5   \n139109            0           37.0           9           9  ...       1011.2   \n139110            0           33.0           0          13  ...       1011.8   \n139111            2           26.0           9           6  ...       1010.7   \n139112            1           30.0           1           6  ...       1009.7   \n\n        Cloud9am  Cloud3pm  Temp9am  Temp3pm  RainToday  RISK_MM  year  month  \\\n5939         2.0       5.0     26.6     33.4          0      0.0  2009      1   \n5940         1.0       1.0     20.3     27.0          0      0.0  2009      1   \n5942         1.0       6.0     28.7     34.9          0      0.0  2009      1   \n5943         1.0       5.0     29.1     35.6          0      0.0  2009      1   \n5944         1.0       6.0     33.6     37.6          0      0.0  2009      1   \n...          ...       ...      ...      ...        ...      ...   ...    ...   \n139108       0.0       1.0     24.5     32.3          0      0.0  2017      6   \n139109       7.0       0.0     24.8     32.0          0      0.0  2017      6   \n139110       0.0       0.0     24.8     32.1          0      0.0  2017      6   \n139111       1.0       1.0     24.8     29.2          0      0.0  2017      6   \n139112       6.0       5.0     25.4     31.0          0      0.0  2017      6   \n\n        day  \n5939      1  \n5940      2  \n5942      4  \n5943      5  \n5944      6  \n...     ...  \n139108   20  \n139109   21  \n139110   22  \n139111   23  \n139112   24  \n\n[56420 rows x 25 columns]",
            "text/html": "<div>\n<style scoped>\n    .dataframe tbody tr th:only-of-type {\n        vertical-align: middle;\n    }\n\n    .dataframe tbody tr th {\n        vertical-align: top;\n    }\n\n    .dataframe thead th {\n        text-align: right;\n    }\n</style>\n<table border=\"1\" class=\"dataframe\">\n  <thead>\n    <tr style=\"text-align: right;\">\n      <th></th>\n      <th>Location</th>\n      <th>MinTemp</th>\n      <th>MaxTemp</th>\n      <th>Rainfall</th>\n      <th>Evaporation</th>\n      <th>Sunshine</th>\n      <th>WindGustDir</th>\n      <th>WindGustSpeed</th>\n      <th>WindDir9am</th>\n      <th>WindDir3pm</th>\n      <th>...</th>\n      <th>Pressure3pm</th>\n      <th>Cloud9am</th>\n      <th>Cloud3pm</th>\n      <th>Temp9am</th>\n      <th>Temp3pm</th>\n      <th>RainToday</th>\n      <th>RISK_MM</th>\n      <th>year</th>\n      <th>month</th>\n      <th>day</th>\n    </tr>\n  </thead>\n  <tbody>\n    <tr>\n      <th>5939</th>\n      <td>4</td>\n      <td>17.9</td>\n      <td>35.2</td>\n      <td>0.0</td>\n      <td>12.0</td>\n      <td>12.3</td>\n      <td>11</td>\n      <td>48.0</td>\n      <td>1</td>\n      <td>12</td>\n      <td>...</td>\n      <td>1004.4</td>\n      <td>2.0</td>\n      <td>5.0</td>\n      <td>26.6</td>\n      <td>33.4</td>\n      <td>0</td>\n      <td>0.0</td>\n      <td>2009</td>\n      <td>1</td>\n      <td>1</td>\n    </tr>\n    <tr>\n      <th>5940</th>\n      <td>4</td>\n      <td>18.4</td>\n      <td>28.9</td>\n      <td>0.0</td>\n      <td>14.8</td>\n      <td>13.0</td>\n      <td>8</td>\n      <td>37.0</td>\n      <td>10</td>\n      <td>10</td>\n      <td>...</td>\n      <td>1012.1</td>\n      <td>1.0</td>\n      <td>1.0</td>\n      <td>20.3</td>\n      <td>27.0</td>\n      <td>0</td>\n      <td>0.0</td>\n      <td>2009</td>\n      <td>1</td>\n      <td>2</td>\n    </tr>\n    <tr>\n      <th>5942</th>\n      <td>4</td>\n      <td>19.4</td>\n      <td>37.6</td>\n      <td>0.0</td>\n      <td>10.8</td>\n      <td>10.6</td>\n      <td>5</td>\n      <td>46.0</td>\n      <td>5</td>\n      <td>6</td>\n      <td>...</td>\n      <td>1009.2</td>\n      <td>1.0</td>\n      <td>6.0</td>\n      <td>28.7</td>\n      <td>34.9</td>\n      <td>0</td>\n      <td>0.0</td>\n      <td>2009</td>\n      <td>1</td>\n      <td>4</td>\n    </tr>\n    <tr>\n      <th>5943</th>\n      <td>4</td>\n      <td>21.9</td>\n      <td>38.4</td>\n      <td>0.0</td>\n      <td>11.4</td>\n      <td>12.2</td>\n      <td>14</td>\n      <td>31.0</td>\n      <td>14</td>\n      <td>15</td>\n      <td>...</td>\n      <td>1009.1</td>\n      <td>1.0</td>\n      <td>5.0</td>\n      <td>29.1</td>\n      <td>35.6</td>\n      <td>0</td>\n      <td>0.0</td>\n      <td>2009</td>\n      <td>1</td>\n      <td>5</td>\n    </tr>\n    <tr>\n      <th>5944</th>\n      <td>4</td>\n      <td>24.2</td>\n      <td>41.0</td>\n      <td>0.0</td>\n      <td>11.2</td>\n      <td>8.4</td>\n      <td>14</td>\n      <td>35.0</td>\n      <td>7</td>\n      <td>14</td>\n      <td>...</td>\n      <td>1007.4</td>\n      <td>1.0</td>\n      <td>6.0</td>\n      <td>33.6</td>\n      <td>37.6</td>\n      <td>0</td>\n      <td>0.0</td>\n      <td>2009</td>\n      <td>1</td>\n      <td>6</td>\n    </tr>\n    <tr>\n      <th>...</th>\n      <td>...</td>\n      <td>...</td>\n      <td>...</td>\n      <td>...</td>\n      <td>...</td>\n      <td>...</td>\n      <td>...</td>\n      <td>...</td>\n      <td>...</td>\n      <td>...</td>\n      <td>...</td>\n      <td>...</td>\n      <td>...</td>\n      <td>...</td>\n      <td>...</td>\n      <td>...</td>\n      <td>...</td>\n      <td>...</td>\n      <td>...</td>\n      <td>...</td>\n      <td>...</td>\n    </tr>\n    <tr>\n      <th>139108</th>\n      <td>6</td>\n      <td>19.3</td>\n      <td>33.4</td>\n      <td>0.0</td>\n      <td>6.0</td>\n      <td>11.0</td>\n      <td>1</td>\n      <td>35.0</td>\n      <td>9</td>\n      <td>4</td>\n      <td>...</td>\n      <td>1010.5</td>\n      <td>0.0</td>\n      <td>1.0</td>\n      <td>24.5</td>\n      <td>32.3</td>\n      <td>0</td>\n      <td>0.0</td>\n      <td>2017</td>\n      <td>6</td>\n      <td>20</td>\n    </tr>\n    <tr>\n      <th>139109</th>\n      <td>6</td>\n      <td>21.2</td>\n      <td>32.6</td>\n      <td>0.0</td>\n      <td>7.6</td>\n      <td>8.6</td>\n      <td>0</td>\n      <td>37.0</td>\n      <td>9</td>\n      <td>9</td>\n      <td>...</td>\n      <td>1011.2</td>\n      <td>7.0</td>\n      <td>0.0</td>\n      <td>24.8</td>\n      <td>32.0</td>\n      <td>0</td>\n      <td>0.0</td>\n      <td>2017</td>\n      <td>6</td>\n      <td>21</td>\n    </tr>\n    <tr>\n      <th>139110</th>\n      <td>6</td>\n      <td>20.7</td>\n      <td>32.8</td>\n      <td>0.0</td>\n      <td>5.6</td>\n      <td>11.0</td>\n      <td>0</td>\n      <td>33.0</td>\n      <td>0</td>\n      <td>13</td>\n      <td>...</td>\n      <td>1011.8</td>\n      <td>0.0</td>\n      <td>0.0</td>\n      <td>24.8</td>\n      <td>32.1</td>\n      <td>0</td>\n      <td>0.0</td>\n      <td>2017</td>\n      <td>6</td>\n      <td>22</td>\n    </tr>\n    <tr>\n      <th>139111</th>\n      <td>6</td>\n      <td>19.5</td>\n      <td>31.8</td>\n      <td>0.0</td>\n      <td>6.2</td>\n      <td>10.6</td>\n      <td>2</td>\n      <td>26.0</td>\n      <td>9</td>\n      <td>6</td>\n      <td>...</td>\n      <td>1010.7</td>\n      <td>1.0</td>\n      <td>1.0</td>\n      <td>24.8</td>\n      <td>29.2</td>\n      <td>0</td>\n      <td>0.0</td>\n      <td>2017</td>\n      <td>6</td>\n      <td>23</td>\n    </tr>\n    <tr>\n      <th>139112</th>\n      <td>6</td>\n      <td>20.2</td>\n      <td>31.7</td>\n      <td>0.0</td>\n      <td>5.6</td>\n      <td>10.7</td>\n      <td>1</td>\n      <td>30.0</td>\n      <td>1</td>\n      <td>6</td>\n      <td>...</td>\n      <td>1009.7</td>\n      <td>6.0</td>\n      <td>5.0</td>\n      <td>25.4</td>\n      <td>31.0</td>\n      <td>0</td>\n      <td>0.0</td>\n      <td>2017</td>\n      <td>6</td>\n      <td>24</td>\n    </tr>\n  </tbody>\n</table>\n<p>56420 rows × 25 columns</p>\n</div>"
          },
          "metadata": {}
        }
      ]
    },
    {
      "metadata": {
        "id": "NgBLxtEWTHGY",
        "outputId": "f47e1c4e-37ed-427e-d7f5-6f3e5566e033"
      },
      "cell_type": "code",
      "source": [
        "np.max(df['Temp3pm'].values), np.min(df['Temp3pm'].values)"
      ],
      "execution_count": null,
      "outputs": [
        {
          "output_type": "execute_result",
          "execution_count": 31,
          "data": {
            "text/plain": "(46.1, 3.7)"
          },
          "metadata": {}
        }
      ]
    },
    {
      "metadata": {
        "id": "d-yhA11ATHGZ",
        "outputId": "1eb96d7f-02f1-497a-e171-645c8e0cef8b"
      },
      "cell_type": "code",
      "source": [
        "np.max(df['MinTemp'].values), np.min(df['MinTemp'].values)"
      ],
      "execution_count": null,
      "outputs": [
        {
          "output_type": "execute_result",
          "execution_count": 30,
          "data": {
            "text/plain": "(31.4, -6.7)"
          },
          "metadata": {}
        }
      ]
    },
    {
      "metadata": {
        "colab": {
          "base_uri": "https://localhost:8080/"
        },
        "id": "aX3tC4LSeBGC",
        "outputId": "b5dc04fd-70e2-4093-b47c-7181cd55f621"
      },
      "cell_type": "code",
      "source": [
        "Y"
      ],
      "execution_count": null,
      "outputs": [
        {
          "output_type": "execute_result",
          "execution_count": 27,
          "data": {
            "text/plain": "5939      0\n5940      0\n5942      0\n5943      0\n5944      0\n         ..\n139108    0\n139109    0\n139110    0\n139111    0\n139112    0\nName: RainTomorrow, Length: 56420, dtype: int64"
          },
          "metadata": {}
        }
      ]
    },
    {
      "metadata": {
        "colab": {
          "base_uri": "https://localhost:8080/"
        },
        "id": "F9f8dDf0eCsX",
        "outputId": "1661a2c7-d782-41d0-8ea2-603a808f29dd"
      },
      "cell_type": "code",
      "source": [
        "Y.value_counts()"
      ],
      "execution_count": null,
      "outputs": [
        {
          "output_type": "execute_result",
          "execution_count": 28,
          "data": {
            "text/plain": "0    43993\n1    12427\nName: RainTomorrow, dtype: int64"
          },
          "metadata": {}
        }
      ]
    },
    {
      "metadata": {
        "colab": {
          "base_uri": "https://localhost:8080/"
        },
        "id": "rZEw9eJHeFU0",
        "outputId": "7a6489c8-4d54-445b-98b0-da35eab34c13"
      },
      "cell_type": "code",
      "source": [
        "X.shape, Y.shape"
      ],
      "execution_count": null,
      "outputs": [
        {
          "output_type": "execute_result",
          "execution_count": 29,
          "data": {
            "text/plain": "((56420, 25), (56420,))"
          },
          "metadata": {}
        }
      ]
    },
    {
      "metadata": {
        "id": "9nHd_py2lTLD"
      },
      "cell_type": "markdown",
      "source": [
        "#Normalization"
      ]
    },
    {
      "metadata": {
        "colab": {
          "base_uri": "https://localhost:8080/"
        },
        "id": "rlBwlCQGti5R",
        "outputId": "4c4c9762-f29e-495f-c4f9-b4fe9ab047b7"
      },
      "cell_type": "code",
      "source": [
        "scaler = StandardScaler()\n",
        "scaler.fit(X)\n",
        "X = scaler.transform(X)\n",
        "X"
      ],
      "execution_count": null,
      "outputs": [
        {
          "output_type": "execute_result",
          "execution_count": 33,
          "data": {
            "text/plain": "array([[-1.18184371,  0.69120848,  1.57529783, ..., -1.31421102,\n        -1.57185009, -1.67651525],\n       [-1.18184371,  0.76913098,  0.67150378, ..., -1.31421102,\n        -1.57185009, -1.5626518 ],\n       [-1.18184371,  0.92497598,  1.91960032, ..., -1.31421102,\n        -1.57185009, -1.33492489],\n       ...,\n       [-0.90791487,  1.12757448,  1.23099533, ...,  1.94982075,\n        -0.1231427 ,  0.71461729],\n       [-0.90791487,  0.94056048,  1.08753596, ...,  1.94982075,\n        -0.1231427 ,  0.82848075],\n       [-0.90791487,  1.04965198,  1.07319002, ...,  1.94982075,\n        -0.1231427 ,  0.9423442 ]])"
          },
          "metadata": {}
        }
      ]
    },
    {
      "metadata": {
        "id": "quP1t9xlJHF2"
      },
      "cell_type": "code",
      "source": [
        "f = open(\"scaler.pkl\", \"wb\")\n",
        "pickle.dump(scaler, f)\n",
        "f.close()"
      ],
      "execution_count": null,
      "outputs": []
    },
    {
      "metadata": {
        "colab": {
          "base_uri": "https://localhost:8080/"
        },
        "id": "W7pNqrSG8pRT",
        "outputId": "608cc409-97b5-404c-ca5e-8ebd54bb0288"
      },
      "cell_type": "code",
      "source": [
        "np.random.seed(2)\n",
        "x_train,x_test,y_train,y_test=train_test_split(X,Y,test_size=0.25,)\n",
        "print(x_train.shape)\n",
        "print(x_test.shape)\n",
        "print(y_train.shape)\n",
        "print(y_test.shape)"
      ],
      "execution_count": null,
      "outputs": [
        {
          "output_type": "stream",
          "text": "(42315, 25)\n(14105, 25)\n(42315,)\n(14105,)\n",
          "name": "stdout"
        }
      ]
    },
    {
      "metadata": {
        "id": "kwVqVSjElds6"
      },
      "cell_type": "markdown",
      "source": [
        "#Model Training"
      ]
    },
    {
      "cell_type": "code",
      "source": [
        "from google.colab import drive\n",
        "drive.mount('/content/drive')"
      ],
      "metadata": {
        "colab": {
          "base_uri": "https://localhost:8080/"
        },
        "id": "gopiq4GoWu9y",
        "outputId": "ed5d18ae-c1e5-4b16-c67d-47c43e528244"
      },
      "execution_count": null,
      "outputs": [
        {
          "output_type": "stream",
          "name": "stdout",
          "text": [
            "Mounted at /content/drive\n"
          ]
        }
      ]
    },
    {
      "metadata": {
        "colab": {
          "base_uri": "https://localhost:8080/"
        },
        "id": "UBR_erPXmvvA",
        "outputId": "15baf280-08d5-4436-f489-4f3202edad42"
      },
      "cell_type": "code",
      "source": [
        "def get_score(name, model, X_train, X_test, y_train, y_test):\n",
        "    model.fit(X_train, y_train)\n",
        "    pred = model.predict(X_test)\n",
        "    print(model)\n",
        "    print()\n",
        "\n",
        "    score = metrics.accuracy_score(y_test,pred)\n",
        "    cm = metrics.confusion_matrix(y_test,pred, labels = [0,1])\n",
        "    print(cm)\n",
        "    print()\n",
        "    print(\"Training Accuracy : \",model.score(X_train, y_train))\n",
        "    print()\n",
        "    print(\"Testing Accuracy : \",model.score(X_test, y_test))\n",
        "    print()\n",
        "\n",
        "    joblib.dump(model, str(name)+str(model.score(X_test, y_test))+\".joblib\")\n",
        "    print(\"################\")\n",
        "    return(model, model.score(X_test, y_test))\n",
        "  \n",
        "lr, result = get_score(\"lr\", LogisticRegression(solver='liblinear',multi_class='ovr', \n",
        "                                   class_weight='balanced'), \n",
        "          x_train, x_test, y_train, y_test)\n",
        "\n",
        "#svm, result = get_score(\"svm\", SVC(gamma='auto', probability=True, class_weight='balanced'), \n",
        "#          x_train, x_test, y_train, y_test)\n",
        "\n",
        "rf, result = get_score(\"rf\", RandomForestClassifier(n_estimators=69, class_weight='balanced'), \n",
        "          x_train, x_test, y_train, y_test)\n",
        "\n",
        "knn, result = get_score(\"knn\", KNeighborsClassifier(n_neighbors = 2,), \n",
        "          x_train, x_test, y_train, y_test)\n",
        "\n",
        "sgd, result = get_score(\"sgd\", SGDClassifier(alpha=0.0001, average=False, class_weight='balanced',\n",
        "              early_stopping=False, epsilon=0.1, eta0=0.0, fit_intercept=True,\n",
        "              l1_ratio=0.15, learning_rate='optimal', loss=\"modified_huber\",\n",
        "              max_iter=50, n_iter_no_change=5, n_jobs=None, penalty='none',\n",
        "              power_t=0.5, random_state=None, shuffle=True, tol=0.001,\n",
        "              validation_fraction=0.1, verbose=0, warm_start=False), x_train, x_test, y_train, y_test)\n"
      ],
      "execution_count": null,
      "outputs": [
        {
          "output_type": "stream",
          "text": "LogisticRegression(class_weight='balanced', multi_class='ovr',\n                   solver='liblinear')\n\n[[10940    82]\n [    1  3082]]\n\nTraining Accuracy :  0.9946591043365237\n\nTesting Accuracy :  0.9941155618574974\n\n################\nRandomForestClassifier(class_weight='balanced', n_estimators=69)\n\n[[11022     0]\n [    0  3083]]\n\nTraining Accuracy :  1.0\n\nTesting Accuracy :  1.0\n\n################\nKNeighborsClassifier(n_neighbors=2)\n\n[[10781   241]\n [ 1766  1317]]\n\nTraining Accuracy :  0.9148056244830438\n\nTesting Accuracy :  0.8577100319035803\n\n################\nSGDClassifier(class_weight='balanced', loss='modified_huber', max_iter=50,\n              penalty='none')\n\n[[11021     1]\n [    0  3083]]\n\nTraining Accuracy :  1.0\n\nTesting Accuracy :  0.9999291031549096\n\n################\n",
          "name": "stdout"
        }
      ]
    },
    {
      "metadata": {
        "id": "Mg68duOyTHGd"
      },
      "cell_type": "code",
      "source": [],
      "execution_count": null,
      "outputs": []
    },
    {
      "metadata": {
        "id": "Nzkv6lRmTHGd",
        "outputId": "00bd5acb-96ae-4a52-8ebb-0b9dec55d75d"
      },
      "cell_type": "code",
      "source": [
        "os.getcwd(), os.listdir()"
      ],
      "execution_count": null,
      "outputs": [
        {
          "output_type": "execute_result",
          "execution_count": 30,
          "data": {
            "text/plain": "('/home/wsuser/work', ['rf1.0.joblib', 'scaler.pkl', '.virtual_documents'])"
          },
          "metadata": {}
        }
      ]
    },
    {
      "metadata": {
        "id": "YJiC05lUTHGe"
      },
      "cell_type": "code",
      "source": [
        "cos_client.upload_file(Filename='scaler.pkl',Bucket=bucket,Key='scaler.pkl')"
      ],
      "execution_count": null,
      "outputs": []
    },
    {
      "metadata": {
        "id": "jDOTRMOfTHGe"
      },
      "cell_type": "code",
      "source": [
        "cos_client.upload_file(Filename='rf1.0.joblib',Bucket=bucket,Key='rf1.1.joblib')"
      ],
      "execution_count": null,
      "outputs": []
    },
    {
      "metadata": {
        "scrolled": false,
        "id": "TxRndR5OTHGf",
        "outputId": "6f9c5488-bbf2-4a3b-9309-045c9bb545ff"
      },
      "cell_type": "code",
      "source": [
        "dirs = dir(cos_client)\n",
        "','.join(dirs)"
      ],
      "execution_count": null,
      "outputs": [
        {
          "output_type": "execute_result",
          "execution_count": 33,
          "data": {
            "text/plain": "'_PY_TO_OP_NAME,__class__,__delattr__,__dict__,__dir__,__doc__,__eq__,__format__,__ge__,__getattr__,__getattribute__,__gt__,__hash__,__init__,__init_subclass__,__le__,__lt__,__module__,__ne__,__new__,__reduce__,__reduce_ex__,__repr__,__setattr__,__sizeof__,__str__,__subclasshook__,__weakref__,_cache,_client_config,_convert_to_request_dict,_emit_api_params,_endpoint,_exceptions,_exceptions_factory,_get_waiter_config,_load_exceptions,_loader,_make_api_call,_make_request,_register_handlers,_request_signer,_response_parser,_serializer,_service_model,abort_multipart_upload,add_legal_hold,can_paginate,complete_multipart_upload,copy,copy_object,create_bucket,create_multipart_upload,delete_bucket,delete_bucket_analytics_configuration,delete_bucket_cors,delete_bucket_inventory_configuration,delete_bucket_lifecycle,delete_bucket_metrics_configuration,delete_bucket_policy,delete_bucket_replication,delete_bucket_tagging,delete_bucket_website,delete_legal_hold,delete_object,delete_object_tagging,delete_objects,delete_public_access_block,download_file,download_fileobj,exceptions,extend_object_retention,generate_presigned_post,generate_presigned_url,get_bucket_accelerate_configuration,get_bucket_acl,get_bucket_analytics_configuration,get_bucket_aspera,get_bucket_cors,get_bucket_inventory_configuration,get_bucket_lifecycle_configuration,get_bucket_location,get_bucket_metrics_configuration,get_bucket_protection_configuration,get_bucket_replication,get_bucket_tagging,get_bucket_versioning,get_bucket_website,get_object,get_object_acl,get_object_tagging,get_object_torrent,get_paginator,get_public_access_block,get_waiter,head_bucket,head_object,list_bucket_analytics_configurations,list_bucket_inventory_configurations,list_bucket_metrics_configurations,list_buckets,list_buckets_extended,list_legal_holds,list_multipart_uploads,list_object_versions,list_objects,list_objects_v2,list_parts,meta,put_bucket_accelerate_configuration,put_bucket_acl,put_bucket_analytics_configuration,put_bucket_cors,put_bucket_inventory_configuration,put_bucket_lifecycle_configuration,put_bucket_metrics_configuration,put_bucket_protection_configuration,put_bucket_replication,put_bucket_tagging,put_bucket_versioning,put_bucket_website,put_object,put_object_acl,put_object_tagging,put_public_access_block,restore_object,upload_file,upload_fileobj,upload_part,upload_part_copy,waiter_names'"
          },
          "metadata": {}
        }
      ]
    },
    {
      "metadata": {
        "id": "HOykXvOFTHGf",
        "outputId": "c2607316-95fa-41f8-af22-6460cae22c09"
      },
      "cell_type": "code",
      "source": [
        "help(cos_client.upload_file)"
      ],
      "execution_count": null,
      "outputs": [
        {
          "output_type": "stream",
          "text": "Help on method upload_file in module ibm_boto3.s3.inject:\n\nupload_file(Filename, Bucket, Key, ExtraArgs=None, Callback=None, Config=None) method of ibm_botocore.client.S3 instance\n    Upload a file to an S3 object.\n    \n    Usage::\n    \n        import ibm_boto3\n        s3 = ibm_boto3.resource('s3')\n        s3.meta.client.upload_file('/tmp/hello.txt', 'mybucket', 'hello.txt')\n    \n    Similar behavior as S3Transfer's upload_file() method,\n    except that parameters are capitalized. Detailed examples can be found at\n    :ref:`S3Transfer's Usage <ref_ibm_s3transfer_usage>`.\n    \n    :type Filename: str\n    :param Filename: The path to the file to upload.\n    \n    :type Bucket: str\n    :param Bucket: The name of the bucket to upload to.\n    \n    :type Key: str\n    :param Key: The name of the key to upload to.\n    \n    :type ExtraArgs: dict\n    :param ExtraArgs: Extra arguments that may be passed to the\n        client operation.\n    \n    :type Callback: function\n    :param Callback: A method which takes a number of bytes transferred to\n        be periodically called during the upload.\n    \n    :type Config: ibm_boto3.s3.transfer.TransferConfig\n    :param Config: The transfer configuration to be used when performing the\n        transfer.\n\n",
          "name": "stdout"
        }
      ]
    },
    {
      "metadata": {
        "id": "MZ8MrufsTHGf"
      },
      "cell_type": "code",
      "source": [],
      "execution_count": null,
      "outputs": []
    },
    {
      "metadata": {
        "id": "B6iVE7p5lhvh"
      },
      "cell_type": "markdown",
      "source": [
        "#Inference"
      ]
    },
    {
      "cell_type": "code",
      "source": [],
      "metadata": {
        "id": "9ofMzKe3zKs8"
      },
      "execution_count": null,
      "outputs": []
    },
    {
      "cell_type": "code",
      "source": [],
      "metadata": {
        "id": "WIYzZGdszLMU"
      },
      "execution_count": null,
      "outputs": []
    },
    {
      "metadata": {
        "id": "QloLOOzcm4PN",
        "outputId": "07a85f25-8690-44fc-c2b2-63445edfbfb0"
      },
      "cell_type": "code",
      "source": [
        "rf = joblib.load(\"rf1.0.joblib\")\n",
        "\n",
        "bucket = 'rainfall-donotdelete-pr-eoii6hshulobg1'\n",
        "object_key = 'rainfall.csv'\n",
        "body = cos_client.get_object(Bucket=bucket,Key=object_key)['Body']\n",
        "\n",
        "# add missing __iter__ method, so pandas accepts body as file-like object\n",
        "if not hasattr(body, \"__iter__\"): body.__iter__ = types.MethodType( __iter__, body )\n",
        "\n",
        "df = pd.read_csv(body)\n",
        "df\n",
        "\n",
        "df = df.dropna()\n",
        "df\n",
        "\n",
        "for i in df.columns:\n",
        "  print(i, df[i].dtype)\n",
        "  print(df[i].value_counts())\n",
        "  print(\"################\")\n",
        "\n",
        "cols = ['RainToday', 'RainTomorrow', 'WindDir3pm', 'WindDir9am', 'WindGustDir', 'Location']\n",
        "\n",
        "le = LabelEncoder()\n",
        "for col in cols:\n",
        "  print(col)\n",
        "  df[col] = le.fit_transform(df[col])\n",
        "  le_name_mapping = dict(zip(le.classes_, le.transform(le.classes_)))\n",
        "  print(le_name_mapping)\n",
        "  print(\"################\")\n",
        "\n",
        "df\n",
        "\n",
        "for col in df.columns:\n",
        "  print(col, df[col].dtype)\n",
        "\n",
        "df['Date'] = pd.to_datetime(df['Date'], \n",
        " format = '%Y-%m-%d', \n",
        " errors = 'coerce')\n",
        "df\n",
        "\n",
        "for col in df.columns:\n",
        "  print(col, df[col].dtype)\n",
        "\n",
        "df['year'] = df['Date'].dt.year\n",
        "df['month'] = df['Date'].dt.month\n",
        "df['day'] = df['Date'].dt.day\n",
        "df\n",
        "\n",
        "del df['Date']\n",
        "\n",
        "df\n",
        "\n",
        "for col in df.columns:\n",
        "  print(col, df[col].dtype)\n",
        "\n",
        "X = df.drop('RainTomorrow', axis=1)\n",
        "Y = df['RainTomorrow']"
      ],
      "execution_count": null,
      "outputs": [
        {
          "output_type": "stream",
          "text": "Date object\n2010-11-16    25\n2009-03-09    25\n2009-03-28    25\n2009-03-26    25\n2010-05-17    25\n              ..\n2008-03-26     1\n2008-03-25     1\n2008-03-24     1\n2008-03-23     1\n2008-01-02     1\nName: Date, Length: 3416, dtype: int64\n################\nLocation object\nDarwin              3062\nPerth               3025\nBrisbane            2953\nMelbourneAirport    2929\nPerthAirport        2913\nSydneyAirport       2870\nWatsonia            2730\nMildura             2594\nMountGambier        2465\nNorfolkIsland       2464\nCairns              2444\nTownsville          2419\nWaggaWagga          2416\nAliceSprings        2223\nNuriootpa           2008\nHobart              1939\nMoree               1913\nMelbourne           1898\nPortland            1863\nWoomera             1734\nSydney              1690\nSale                1678\nCoffsHarbour        1380\nWilliamtown         1198\nCanberra            1078\nCobar                534\nName: Location, dtype: int64\n################\nMinTemp float64\n 13.0    349\n 9.6     342\n 8.5     333\n 9.7     331\n 12.5    331\n        ... \n 31.4      1\n-5.3       1\n-3.8       1\n-5.8       1\n-6.7       1\nName: MinTemp, Length: 348, dtype: int64\n################\nMaxTemp float64\n19.6    303\n18.2    300\n19.4    300\n20.1    298\n23.5    294\n       ... \n45.4      1\n47.3      1\n45.8      1\n6.3       1\n7.5       1\nName: MaxTemp, Length: 395, dtype: int64\n################\nRainfall float64\n0.0      36709\n0.2       3009\n0.4       1593\n0.6       1087\n0.8        834\n         ...  \n29.9         1\n182.6        1\n81.8         1\n89.2         1\n70.8         1\nName: Rainfall, Length: 410, dtype: int64\n################\nEvaporation float64\n4.0     2263\n8.0     1745\n2.2     1393\n3.4     1365\n2.4     1353\n        ... \n37.4       1\n33.6       1\n28.6       1\n48.8       1\n25.0       1\nName: Evaporation, Length: 259, dtype: int64\n################\nSunshine float64\n0.0     1658\n11.0     879\n10.8     878\n10.7     878\n10.5     842\n        ... \n14.0      10\n14.1       3\n14.3       3\n14.2       2\n14.5       1\nName: Sunshine, Length: 145, dtype: int64\n################\nWindGustDir object\nE      4516\nN      4210\nW      4161\nSW     4052\nENE    4028\nSE     3930\nSSW    3898\nWSW    3791\nS      3636\nESE    3312\nSSE    3295\nNE     3185\nWNW    2989\nNW     2612\nNNE    2516\nNNW    2289\nName: WindGustDir, dtype: int64\n################\nWindGustSpeed float64\n35.0     3965\n39.0     3884\n37.0     3727\n31.0     3582\n33.0     3580\n         ... \n113.0       2\n122.0       1\n9.0         1\n124.0       1\n111.0       1\nName: WindGustSpeed, Length: 61, dtype: int64\n################\nWindDir9am object\nN      4967\nE      4456\nENE    3932\nSSE    3893\nSE     3880\nW      3707\nS      3421\nESE    3400\nNE     3390\nSW     3356\nNNE    3267\nWSW    3037\nNNW    3016\nSSW    2926\nWNW    2918\nNW     2854\nName: WindDir9am, dtype: int64\n################\nWindDir3pm object\nSE     4153\nS      4109\nSW     4012\nENE    3946\nW      3922\nWSW    3856\nE      3753\nESE    3703\nN      3626\nSSW    3485\nNE     3390\nSSE    3332\nWNW    3200\nNNW    2766\nNW     2727\nNNE    2440\nName: WindDir3pm, dtype: int64\n################\nWindSpeed9am float64\n13.0    5911\n9.0     5631\n11.0    5000\n17.0    4992\n15.0    4702\n7.0     4274\n19.0    3694\n20.0    3639\n6.0     3342\n24.0    2515\n22.0    2359\n4.0     1737\n26.0    1688\n28.0    1661\n2.0     1182\n30.0    1080\n31.0     970\n33.0     501\n35.0     464\n37.0     253\n39.0     196\n41.0     148\n43.0     143\n44.0      82\n46.0      63\n50.0      43\n48.0      41\n52.0      37\n54.0      23\n56.0      17\n57.0      14\n61.0       6\n63.0       5\n59.0       3\n67.0       2\n65.0       2\nName: WindSpeed9am, dtype: int64\n################\nWindSpeed3pm float64\n17.0    5187\n20.0    4940\n13.0    4785\n15.0    4530\n19.0    4339\n24.0    4124\n22.0    3653\n11.0    3548\n9.0     3375\n28.0    3089\n26.0    2885\n30.0    2185\n7.0     1850\n31.0    1837\n33.0    1183\n6.0     1085\n35.0    1022\n37.0     584\n39.0     499\n4.0      458\n41.0     282\n43.0     242\n2.0      234\n44.0     127\n46.0     120\n50.0      81\n48.0      76\n52.0      30\n54.0      21\n56.0      14\n59.0       9\n65.0       8\n57.0       7\n61.0       6\n76.0       2\n63.0       2\n67.0       1\nName: WindSpeed3pm, dtype: int64\n################\nHumidity9am float64\n68.0    1314\n67.0    1300\n69.0    1288\n65.0    1286\n64.0    1277\n        ... \n4.0       14\n3.0        7\n2.0        6\n1.0        3\n0.0        1\nName: Humidity9am, Length: 101, dtype: int64\n################\nHumidity3pm float64\n52.0     1250\n54.0     1202\n55.0     1181\n51.0     1172\n53.0     1170\n         ... \n100.0      50\n3.0        41\n2.0        29\n1.0        13\n0.0         3\nName: Humidity3pm, Length: 101, dtype: int64\n################\nPressure9am float64\n1016.4    382\n1015.9    361\n1017.7    350\n1018.2    349\n1018.0    347\n         ... \n1039.6      1\n1039.5      1\n1037.6      1\n1040.2      1\n983.9       1\nName: Pressure9am, Length: 504, dtype: int64\n################\nPressure3pm float64\n1014.8    351\n1013.5    351\n1015.3    347\n1013.4    346\n1012.2    341\n         ... \n987.6       1\n986.2       1\n987.0       1\n989.4       1\n983.3       1\nName: Pressure3pm, Length: 507, dtype: int64\n################\nCloud9am float64\n7.0    14394\n1.0    10677\n8.0     5487\n6.0     5403\n0.0     5262\n2.0     4378\n3.0     4221\n5.0     3757\n4.0     2841\nName: Cloud9am, dtype: int64\n################\nCloud3pm float64\n7.0    13809\n1.0    10162\n6.0     6287\n2.0     4961\n3.0     4864\n8.0     4724\n5.0     4672\n0.0     3470\n4.0     3470\n9.0        1\nName: Cloud3pm, dtype: int64\n################\nTemp9am float64\n 16.6    343\n 16.7    333\n 14.8    330\n 14.7    329\n 17.0    328\n        ... \n 0.0       1\n-0.2       1\n-0.5       1\n 0.6       1\n 38.0      1\nName: Temp9am, Length: 383, dtype: int64\n################\nTemp3pm float64\n18.4    329\n18.7    318\n19.3    315\n18.5    310\n21.6    306\n       ... \n4.3       1\n45.4      1\n44.7      1\n43.9      1\n43.2      1\nName: Temp3pm, Length: 393, dtype: int64\n################\nRainToday object\nNo     43958\nYes    12462\nName: RainToday, dtype: int64\n################\nRISK_MM float64\n0.0      36748\n0.2       2996\n0.4       1604\n0.6       1076\n0.8        828\n         ...  \n107.4        1\n63.4         1\n74.4         1\n56.4         1\n65.8         1\nName: RISK_MM, Length: 498, dtype: int64\n################\nRainTomorrow object\nNo     43993\nYes    12427\nName: RainTomorrow, dtype: int64\n################\nRainToday\n{'No': 0, 'Yes': 1}\n################\nRainTomorrow\n{'No': 0, 'Yes': 1}\n################\nWindDir3pm\n{'E': 0, 'ENE': 1, 'ESE': 2, 'N': 3, 'NE': 4, 'NNE': 5, 'NNW': 6, 'NW': 7, 'S': 8, 'SE': 9, 'SSE': 10, 'SSW': 11, 'SW': 12, 'W': 13, 'WNW': 14, 'WSW': 15}\n################\nWindDir9am\n{'E': 0, 'ENE': 1, 'ESE': 2, 'N': 3, 'NE': 4, 'NNE': 5, 'NNW': 6, 'NW': 7, 'S': 8, 'SE': 9, 'SSE': 10, 'SSW': 11, 'SW': 12, 'W': 13, 'WNW': 14, 'WSW': 15}\n################\nWindGustDir\n{'E': 0, 'ENE': 1, 'ESE': 2, 'N': 3, 'NE': 4, 'NNE': 5, 'NNW': 6, 'NW': 7, 'S': 8, 'SE': 9, 'SSE': 10, 'SSW': 11, 'SW': 12, 'W': 13, 'WNW': 14, 'WSW': 15}\n################\nLocation\n{'AliceSprings': 0, 'Brisbane': 1, 'Cairns': 2, 'Canberra': 3, 'Cobar': 4, 'CoffsHarbour': 5, 'Darwin': 6, 'Hobart': 7, 'Melbourne': 8, 'MelbourneAirport': 9, 'Mildura': 10, 'Moree': 11, 'MountGambier': 12, 'NorfolkIsland': 13, 'Nuriootpa': 14, 'Perth': 15, 'PerthAirport': 16, 'Portland': 17, 'Sale': 18, 'Sydney': 19, 'SydneyAirport': 20, 'Townsville': 21, 'WaggaWagga': 22, 'Watsonia': 23, 'Williamtown': 24, 'Woomera': 25}\n################\nDate object\nLocation int64\nMinTemp float64\nMaxTemp float64\nRainfall float64\nEvaporation float64\nSunshine float64\nWindGustDir int64\nWindGustSpeed float64\nWindDir9am int64\nWindDir3pm int64\nWindSpeed9am float64\nWindSpeed3pm float64\nHumidity9am float64\nHumidity3pm float64\nPressure9am float64\nPressure3pm float64\nCloud9am float64\nCloud3pm float64\nTemp9am float64\nTemp3pm float64\nRainToday int64\nRISK_MM float64\nRainTomorrow int64\nDate datetime64[ns]\nLocation int64\nMinTemp float64\nMaxTemp float64\nRainfall float64\nEvaporation float64\nSunshine float64\nWindGustDir int64\nWindGustSpeed float64\nWindDir9am int64\nWindDir3pm int64\nWindSpeed9am float64\nWindSpeed3pm float64\nHumidity9am float64\nHumidity3pm float64\nPressure9am float64\nPressure3pm float64\nCloud9am float64\nCloud3pm float64\nTemp9am float64\nTemp3pm float64\nRainToday int64\nRISK_MM float64\nRainTomorrow int64\n",
          "name": "stdout"
        },
        {
          "output_type": "stream",
          "text": "Location int64\nMinTemp float64\nMaxTemp float64\nRainfall float64\nEvaporation float64\nSunshine float64\nWindGustDir int64\nWindGustSpeed float64\nWindDir9am int64\nWindDir3pm int64\nWindSpeed9am float64\nWindSpeed3pm float64\nHumidity9am float64\nHumidity3pm float64\nPressure9am float64\nPressure3pm float64\nCloud9am float64\nCloud3pm float64\nTemp9am float64\nTemp3pm float64\nRainToday int64\nRISK_MM float64\nRainTomorrow int64\nyear int64\nmonth int64\nday int64\n",
          "name": "stdout"
        }
      ]
    },
    {
      "metadata": {
        "colab": {
          "base_uri": "https://localhost:8080/"
        },
        "id": "i9Z4oOBNJ-i8",
        "outputId": "beeb8976-efb1-4e9f-c593-5fd6dbd77f1f"
      },
      "cell_type": "code",
      "source": [
        "t = X.iloc[0].values\n",
        "t"
      ],
      "execution_count": null,
      "outputs": [
        {
          "output_type": "execute_result",
          "execution_count": 40,
          "data": {
            "text/plain": "array([4.0000e+00, 1.7900e+01, 3.5200e+01, 0.0000e+00, 1.2000e+01,\n       1.2300e+01, 1.1000e+01, 4.8000e+01, 1.0000e+00, 1.2000e+01,\n       6.0000e+00, 2.0000e+01, 2.0000e+01, 1.3000e+01, 1.0063e+03,\n       1.0044e+03, 2.0000e+00, 5.0000e+00, 2.6600e+01, 3.3400e+01,\n       0.0000e+00, 0.0000e+00, 2.0090e+03, 1.0000e+00, 1.0000e+00])"
          },
          "metadata": {}
        }
      ]
    },
    {
      "metadata": {
        "colab": {
          "base_uri": "https://localhost:8080/"
        },
        "id": "r5t1NTl-K6Dw",
        "outputId": "619d8d04-84a6-42ef-8097-63ec46753b3e"
      },
      "cell_type": "code",
      "source": [
        "#RainTomorrow\n",
        "#{'No': 0, 'Yes': 1}\n",
        "Y.iloc[0]"
      ],
      "execution_count": null,
      "outputs": [
        {
          "output_type": "execute_result",
          "execution_count": 41,
          "data": {
            "text/plain": "0"
          },
          "metadata": {}
        }
      ]
    },
    {
      "metadata": {
        "colab": {
          "base_uri": "https://localhost:8080/"
        },
        "id": "UN2q5BjjJ6Yb",
        "outputId": "2e9d3d7d-a551-4531-e077-815b3e1af30d"
      },
      "cell_type": "code",
      "source": [
        "scaled_X = scaler.transform([t])\n",
        "scaled_X"
      ],
      "execution_count": null,
      "outputs": [
        {
          "output_type": "stream",
          "text": "/opt/conda/envs/Python-3.9/lib/python3.9/site-packages/sklearn/base.py:450: UserWarning: X does not have valid feature names, but StandardScaler was fitted with feature names\n  warnings.warn(\n",
          "name": "stderr"
        },
        {
          "output_type": "execute_result",
          "execution_count": 42,
          "data": {
            "text/plain": "array([[-1.18184371,  0.69120848,  1.57529783, -0.30370205,  1.75769102,\n         1.21453661,  0.73336198,  0.53412623, -1.31371416,  0.93928202,\n        -1.16235517,  0.02505519, -2.4779243 , -1.81226109, -1.58330258,\n        -1.51300183, -0.80142825,  0.25441126,  1.27818584,  1.56362087,\n        -0.53244519, -0.26878286, -1.31421102, -1.57185009, -1.67651525]])"
          },
          "metadata": {}
        }
      ]
    },
    {
      "metadata": {
        "id": "jnfKwrS4U77c"
      },
      "cell_type": "code",
      "source": [
        "type(rf)"
      ],
      "execution_count": null,
      "outputs": []
    },
    {
      "metadata": {
        "id": "XSUpBAlHKvXC"
      },
      "cell_type": "code",
      "source": [
        "#lr_val = lr.predict_proba(scaled_X)\n",
        "#svm_val = svm.predict_proba(scaled_X)\n",
        "rf_val = rf.predict_proba(scaled_X)\n",
        "#knn_val = knn.predict_proba(scaled_X)\n",
        "#sgd_val = sgd.predict_proba(scaled_X)"
      ],
      "execution_count": null,
      "outputs": []
    },
    {
      "metadata": {
        "colab": {
          "base_uri": "https://localhost:8080/"
        },
        "id": "6RGunDKCK1hU",
        "outputId": "9c05b96f-af33-4ffc-d6d5-6a2cc727c31a"
      },
      "cell_type": "code",
      "source": [
        "print(rf_val)"
      ],
      "execution_count": null,
      "outputs": [
        {
          "output_type": "stream",
          "text": "[[1. 0.]]\n",
          "name": "stdout"
        }
      ]
    },
    {
      "metadata": {
        "id": "TruGUD5YktQ7"
      },
      "cell_type": "code",
      "source": [
        "#RainTomorrow\n",
        "#{'No': 0, 'Yes': 1}"
      ],
      "execution_count": null,
      "outputs": []
    },
    {
      "metadata": {
        "id": "joq8xLEHTHGj"
      },
      "cell_type": "code",
      "source": [
        "#RainTomorrow\n",
        "#{'No': 0, 'Yes': 1}\n",
        "Y.iloc[0]\n",
        "\n",
        "scaled_X = scaler.transform([t])\n",
        "scaled_X\n",
        "\n",
        "#lr_val = lr.predict_proba(scaled_X)\n",
        "#svm_val = svm.predict_proba(scaled_X)\n",
        "rf_val = rf.predict_proba(scaled_X)\n",
        "#knn_val = knn.predict_proba(scaled_X)\n",
        "#sgd_val = sgd.predict_proba(scaled_X)"
      ],
      "execution_count": null,
      "outputs": []
    },
    {
      "metadata": {
        "id": "ZDx4cf10K3-L"
      },
      "cell_type": "code",
      "source": [
        "a = (lr_val+svm_val+rf_val+knn_val+sgd_val)/5"
      ],
      "execution_count": null,
      "outputs": []
    },
    {
      "metadata": {
        "id": "K4B326tZUFDu"
      },
      "cell_type": "code",
      "source": [
        "a"
      ],
      "execution_count": null,
      "outputs": []
    }
  ],
  "metadata": {
    "accelerator": "GPU",
    "colab": {
      "provenance": [],
      "toc_visible": true
    },
    "gpuClass": "standard",
    "kernelspec": {
      "name": "python3",
      "display_name": "Python 3.9",
      "language": "python"
    },
    "language_info": {
      "name": "python",
      "version": "3.9.13",
      "mimetype": "text/x-python",
      "codemirror_mode": {
        "name": "ipython",
        "version": 3
      },
      "pygments_lexer": "ipython3",
      "nbconvert_exporter": "python",
      "file_extension": ".py"
    }
  },
  "nbformat": 4,
  "nbformat_minor": 0
}